{
 "cells": [
  {
   "cell_type": "markdown",
   "id": "21642423",
   "metadata": {},
   "source": [
    "# IQG Crash Course PYTHON Scripting in BMB\n",
    "## Introduction\n",
    "\n",
    "This lesson covers some PYTHIN basics like creating variables and logic"
   ]
  },
  {
   "cell_type": "markdown",
   "id": "a0508a0d",
   "metadata": {},
   "source": [
    "<div class=\"overview-this-is-a-title overview\">\n",
    "<p class=\"overview-title\">Overview</p>\n",
    "<p>Questions</p>\n",
    "    <ul>\n",
    "        <li> What is the basic syntax of the python programming language?\n",
    "    </ul>\n",
    "<p>Objectives:</p>\n",
    "    <ul>\n",
    "        <li> Assign values to variables\n",
    "        <li> Use the print function to check how the code is working.\n",
    "        <li> Use multiple assignment to assign several variables at once.\n",
    "        <li> Use a for loop to perform the same action on the items in a list\n",
    "    </ul>\n",
    "</div>"
   ]
  },
  {
   "cell_type": "markdown",
   "id": "a392eb17",
   "metadata": {},
   "source": [
    "## Getting Started\n",
    "Python is a computer programming language that has become ubiquitous in scientific programming.  Our lessons will run python *interactively* through a python interpreter inside a Jupyter notebook.  The [setup](setup.ipynb) page should have provided information on how to install and start a Jupyter notebook.  Everything included in a code block is something you could type into your python interpreter and evaluate.\n",
    "\n",
    "### Setting up your Jupyter notebooks\n",
    "If you are reading this page, then you have succeeded in gaining access to Jupyter notebooks. Now, we will use the notebook to execute Python code. Jupyter notebooks are divided into cells. You run a Jupyter notebook one cell at a time. To execute a cell, click inside the cell and press `shift+enter`.\n",
    "\n",
    "In the upper left corner, click where it says \"Untitled\" and change the name to \"IQB Crash Course\". We have now changed the name of the Jupyter Notebook.\n",
    "\n",
    "Jupyter notebooks allow us to also use something called **markdown** in selected cells. We can use markdown to write descriptions about our notebooks for others to read. It's a good practice to have your first cell be markdown to explain the purpose of the notebook. Let's do that in our first cell. Click inside the first cell, then on the top of the screen select Markdown from the dropdown menu that says *Code*. \n",
    "\n",
    "Now, return to the cell and type the following:\n",
    "\n",
    "```{eval-rst}\n",
    "\n",
    "    # IQB Crash Course Python Scripting in BMB\n",
    "    ## Introduction\n",
    "\n",
    "    This lesson covers Python basics like variable creation \n",
    "    and assignment and using the Jupyter notebook\n",
    "```\n",
    "\n"
   ]
  },
  {
   "cell_type": "markdown",
   "id": "762d986c",
   "metadata": {},
   "source": [
    "## Assigning variables and data types\n",
    "\n",
    "Any python interpreter can work just like a calculator.  This is not very useful. Type the following into the next cell of your Jupyter notebook."
   ]
  },
  {
   "cell_type": "code",
   "execution_count": 40,
   "id": "675fc3ac",
   "metadata": {},
   "outputs": [
    {
     "data": {
      "text/plain": [
       "10"
      ]
     },
     "execution_count": 40,
     "metadata": {},
     "output_type": "execute_result"
    }
   ],
   "source": [
    "3+7"
   ]
  },
  {
   "cell_type": "markdown",
   "id": "c922543d-0594-4ac1-ad9c-8674daf6c882",
   "metadata": {},
   "source": [
    "variable_name = variable_value"
   ]
  },
  {
   "cell_type": "code",
   "execution_count": 41,
   "id": "fd6c71fc-0b2b-4cb2-a65b-da6a6694c744",
   "metadata": {},
   "outputs": [],
   "source": [
    "# Calculating Michaelis-Menten Kinetics \n",
    "Km = 15.0           # Km = 15 micromolar\n",
    "Vmax = 100.0        # Vmax = 100 nanomoles/s\n",
    "S_conc = 8.0\n",
    "velocity = Vmax*S_conc / (Km + S_conc)"
   ]
  },
  {
   "cell_type": "code",
   "execution_count": 42,
   "id": "3137391b",
   "metadata": {},
   "outputs": [
    {
     "name": "stdout",
     "output_type": "stream",
     "text": [
      "34.78260869565217\n",
      "34782.60869565217\n"
     ]
    }
   ],
   "source": [
    "print(velocity)\n",
    "velocity =1000 * velocity\n",
    "print(velocity)"
   ]
  },
  {
   "cell_type": "code",
   "execution_count": 43,
   "id": "c09fe07e",
   "metadata": {},
   "outputs": [
    {
     "name": "stdout",
     "output_type": "stream",
     "text": [
      "34.78260869565217\n",
      "2086.9565217391305\n"
     ]
    }
   ],
   "source": [
    "# change the value of velocity to the original value\n",
    "velocity = velocity / 1000\n",
    "v_per_min = velocity * 60\n",
    "print(velocity)\n",
    "print(v_per_min)"
   ]
  },
  {
   "cell_type": "code",
   "execution_count": null,
   "id": "ef80efb9",
   "metadata": {},
   "outputs": [],
   "source": []
  },
  {
   "cell_type": "markdown",
   "id": "a6ac3b7e-5d92-4d88-a093-4712085c8572",
   "metadata": {},
   "source": [
    "### Assigning multiple variables at one time"
   ]
  },
  {
   "cell_type": "code",
   "execution_count": 57,
   "id": "45854faa",
   "metadata": {},
   "outputs": [
    {
     "name": "stdout",
     "output_type": "stream",
     "text": [
      "40.0\n"
     ]
    }
   ],
   "source": [
    "# I can assign all these variables at once\n",
    "Km, Vmax, s_conc = 15.0, 100.0, 10.0\n",
    "velocity = Vmax * s_conc / (Km + s_conc)\n",
    "print(velocity)"
   ]
  },
  {
   "cell_type": "code",
   "execution_count": 45,
   "id": "5efef9e3",
   "metadata": {},
   "outputs": [],
   "source": [
    "amount = 0.1 # moles\n",
    "volume = 0.5 # liters"
   ]
  },
  {
   "cell_type": "code",
   "execution_count": 46,
   "id": "b4a1a01d",
   "metadata": {},
   "outputs": [
    {
     "data": {
      "text/plain": [
       "0.2"
      ]
     },
     "execution_count": 46,
     "metadata": {},
     "output_type": "execute_result"
    }
   ],
   "source": [
    "molarity = amount/volume # moles / liter\n",
    "molarity"
   ]
  },
  {
   "cell_type": "markdown",
   "id": "f75ebf3d",
   "metadata": {},
   "source": [
    "## Data types"
   ]
  },
  {
   "cell_type": "code",
   "execution_count": 47,
   "id": "ea222f8d",
   "metadata": {},
   "outputs": [
    {
     "data": {
      "text/plain": [
       "float"
      ]
     },
     "execution_count": 47,
     "metadata": {},
     "output_type": "execute_result"
    }
   ],
   "source": [
    "type(velocity)"
   ]
  },
  {
   "cell_type": "code",
   "execution_count": 48,
   "id": "673d1807",
   "metadata": {},
   "outputs": [
    {
     "data": {
      "text/plain": [
       "int"
      ]
     },
     "execution_count": 48,
     "metadata": {},
     "output_type": "execute_result"
    }
   ],
   "source": [
    "type(16)"
   ]
  },
  {
   "cell_type": "code",
   "execution_count": 49,
   "id": "a16795ec",
   "metadata": {},
   "outputs": [
    {
     "data": {
      "text/plain": [
       "str"
      ]
     },
     "execution_count": 49,
     "metadata": {},
     "output_type": "execute_result"
    }
   ],
   "source": [
    "velocity_string = str(velocity)\n",
    "type(velocity_string)"
   ]
  },
  {
   "cell_type": "code",
   "execution_count": 50,
   "id": "fae6c3be",
   "metadata": {},
   "outputs": [
    {
     "data": {
      "text/plain": [
       "float"
      ]
     },
     "execution_count": 50,
     "metadata": {},
     "output_type": "execute_result"
    }
   ],
   "source": [
    "type(molarity)"
   ]
  },
  {
   "cell_type": "code",
   "execution_count": 51,
   "id": "d8aea0c5",
   "metadata": {},
   "outputs": [
    {
     "data": {
      "text/plain": [
       "str"
      ]
     },
     "execution_count": 51,
     "metadata": {},
     "output_type": "execute_result"
    }
   ],
   "source": [
    "# define a 'word' (string)\n",
    "units = \"moles/liter\"\n",
    "type(units)"
   ]
  },
  {
   "cell_type": "markdown",
   "id": "467d2358",
   "metadata": {},
   "source": [
    "## Formated (\"f-string\" printing)"
   ]
  },
  {
   "cell_type": "markdown",
   "id": "ae898b0b",
   "metadata": {},
   "source": [
    "If you would like to print both variables and text together, you can do so with f-strring printing.\n",
    "\n",
    "The sytax for an f-string is"
   ]
  },
  {
   "cell_type": "code",
   "execution_count": null,
   "id": "5805d9c1",
   "metadata": {},
   "outputs": [],
   "source": [
    "my_phrase = f\"Hello {variable}\""
   ]
  },
  {
   "cell_type": "markdown",
   "id": "ef6883fb",
   "metadata": {},
   "source": [
    "where variable is some variable you have defined."
   ]
  },
  {
   "cell_type": "code",
   "execution_count": null,
   "id": "d8961c8b",
   "metadata": {},
   "outputs": [
    {
     "name": "stdout",
     "output_type": "stream",
     "text": [
      "The concentration is 0.2 moles/liter.\n"
     ]
    }
   ],
   "source": [
    "my_string = f\"The concentration is {molarity} {units}.\"\n",
    "print(my_string)"
   ]
  },
  {
   "cell_type": "markdown",
   "id": "da159665",
   "metadata": {},
   "source": [
    "## Lists\n",
    "\n",
    "Python assigns special meanings to square brackets \\[\\], parentheses () and curly brackets {}, so you must be very careful with these characters."
   ]
  },
  {
   "cell_type": "code",
   "execution_count": null,
   "id": "483c82dd",
   "metadata": {},
   "outputs": [
    {
     "name": "stdout",
     "output_type": "stream",
     "text": [
      "This list contains 13 substrate concentrations\n"
     ]
    }
   ],
   "source": [
    "# This is a list\n",
    "S_concs = [1.0, 2.0, 3.0, 4.0, 6.0, 8.0, 10.0, 15.0 ,20.0, 30.0, 50.0, 75.0, 100.0]\n",
    "# Determine the length of this list\n",
    "s_length = len(S_concs)\n",
    "print('This list contains', s_length, 'substrate concentrations')"
   ]
  },
  {
   "cell_type": "code",
   "execution_count": null,
   "id": "79babd57",
   "metadata": {},
   "outputs": [
    {
     "name": "stdout",
     "output_type": "stream",
     "text": [
      "1.0\n",
      "6.0\n"
     ]
    }
   ],
   "source": [
    "# print the first element\n",
    "print(S_concs[0])\n",
    "print(S_concs[4])"
   ]
  },
  {
   "cell_type": "code",
   "execution_count": null,
   "id": "9ec10a3d",
   "metadata": {},
   "outputs": [
    {
     "name": "stdout",
     "output_type": "stream",
     "text": [
      "100000.0\n"
     ]
    }
   ],
   "source": [
    "S_conc_nM = S_concs[12] * 1000\n",
    "print(S_conc_nM)"
   ]
  },
  {
   "cell_type": "code",
   "execution_count": null,
   "id": "181c3d9a",
   "metadata": {},
   "outputs": [
    {
     "name": "stdout",
     "output_type": "stream",
     "text": [
      "The length of the list is 5.\n"
     ]
    }
   ],
   "source": [
    "amounts = [0.1, 0.2, 0.3, 0.5, 0.7]\n",
    "num_elements = len(amounts)\n",
    "\n",
    "# Write a print statement here that prints the length of the list\n",
    "print(f\"The length of the list is {num_elements}.\")"
   ]
  },
  {
   "cell_type": "markdown",
   "id": "f85e5f96",
   "metadata": {},
   "source": [
    "## Slices"
   ]
  },
  {
   "cell_type": "markdown",
   "id": "09de3964",
   "metadata": {},
   "source": [
    "new_list = list_name[start:end]"
   ]
  },
  {
   "cell_type": "code",
   "execution_count": null,
   "id": "1332215e",
   "metadata": {},
   "outputs": [
    {
     "name": "stdout",
     "output_type": "stream",
     "text": [
      "[1.0, 2.0, 3.0]\n"
     ]
    }
   ],
   "source": [
    "short_list = S_concs[0:3]\n",
    "print(short_list)"
   ]
  },
  {
   "cell_type": "code",
   "execution_count": null,
   "id": "7c6c33f8",
   "metadata": {},
   "outputs": [
    {
     "data": {
      "text/plain": [
       "0.7"
      ]
     },
     "execution_count": 37,
     "metadata": {},
     "output_type": "execute_result"
    }
   ],
   "source": [
    "amounts[1:3]\n",
    "#first\n",
    "amounts[0]\n",
    "# last\n",
    "amounts[-1]"
   ]
  },
  {
   "cell_type": "code",
   "execution_count": 53,
   "id": "e4f3a30d",
   "metadata": {},
   "outputs": [
    {
     "name": "stdout",
     "output_type": "stream",
     "text": [
      "[0.1, 0.2]\n"
     ]
    }
   ],
   "source": [
    "first_two = amounts[0:2]\n",
    "print(first_two)"
   ]
  },
  {
   "cell_type": "markdown",
   "id": "1cb27746",
   "metadata": {},
   "source": [
    "**Check your understanding** \n",
    "\n",
    "What does the following code print? \n",
    "\n",
    "```python\n",
    "slice1 = S_concs[3:]\n",
    "slice2 = S_concs[:2]\n",
    "print('slice1 is', slice1)\n",
    "print('slice2 is', slice2)\n"
   ]
  },
  {
   "cell_type": "code",
   "execution_count": null,
   "id": "ef636091",
   "metadata": {},
   "outputs": [
    {
     "name": "stdout",
     "output_type": "stream",
     "text": [
      "slice1 is [4.0, 6.0, 8.0, 10.0, 15.0, 20.0, 30.0, 50.0, 75.0, 100.0]\n",
      "slice2 is [1.0, 2.0]\n"
     ]
    }
   ],
   "source": [
    "slice1=S_concs[3:]\n",
    "print('slice1 is', slice1)\n",
    "slice2=S_concs[:2]\n",
    "print('slice2 is', slice2)"
   ]
  },
  {
   "cell_type": "markdown",
   "id": "ce23bc5a",
   "metadata": {},
   "source": [
    "## Repeating an operation many times: for loops\n",
    "Often, you will want to do something to every element of a list.  The structure\n",
    "to do this is called a `for` loop.  The general structure of a `for` loop is\n",
    "```python\n",
    "for variable in list:\n",
    "    do things using variable\n",
    "```"
   ]
  },
  {
   "cell_type": "code",
   "execution_count": 54,
   "id": "6307f515",
   "metadata": {},
   "outputs": [
    {
     "name": "stdout",
     "output_type": "stream",
     "text": [
      "6.25\n",
      "11.764705882352942\n",
      "16.666666666666668\n",
      "21.05263157894737\n",
      "28.571428571428573\n",
      "34.78260869565217\n",
      "40.0\n",
      "50.0\n",
      "57.142857142857146\n",
      "66.66666666666667\n",
      "76.92307692307692\n",
      "83.33333333333333\n",
      "86.95652173913044\n"
     ]
    }
   ],
   "source": [
    "S_concs = [1.0, 2.0, 3.0, 4.0, 6.0, 8.0, 10.0, 15.0 ,20.0, 30.0, 50.0, 75.0, 100.0]\n",
    "for number in S_concs:\n",
    "    velocity = Vmax * number / (Km + number)\n",
    "    print(velocity)"
   ]
  },
  {
   "cell_type": "markdown",
   "id": "d976b7d8",
   "metadata": {},
   "source": [
    "list_name.append(new_thing)"
   ]
  },
  {
   "cell_type": "code",
   "execution_count": 58,
   "id": "89df3aa8",
   "metadata": {},
   "outputs": [
    {
     "ename": "NameError",
     "evalue": "name 'velocities' is not defined",
     "output_type": "error",
     "traceback": [
      "\u001b[0;31m---------------------------------------------------------------------------\u001b[0m",
      "\u001b[0;31mNameError\u001b[0m                                 Traceback (most recent call last)",
      "Cell \u001b[0;32mIn[58], line 4\u001b[0m\n\u001b[1;32m      2\u001b[0m \u001b[38;5;28;01mfor\u001b[39;00m number \u001b[38;5;129;01min\u001b[39;00m S_concs:\n\u001b[1;32m      3\u001b[0m     velocity \u001b[38;5;241m=\u001b[39m Vmax \u001b[38;5;241m*\u001b[39m number \u001b[38;5;241m/\u001b[39m (Km \u001b[38;5;241m+\u001b[39m number)\n\u001b[0;32m----> 4\u001b[0m     velocities\u001b[38;5;241m.\u001b[39mappend(velocity)\n\u001b[1;32m      6\u001b[0m \u001b[38;5;28mprint\u001b[39m(velocities)\n",
      "\u001b[0;31mNameError\u001b[0m: name 'velocities' is not defined"
     ]
    }
   ],
   "source": [
    "S_concs = [1.0, 2.0, 3.0, 4.0, 6.0, 8.0, 10.0, 15.0 ,20.0, 30.0, 50.0, 75.0, 100.0]\n",
    "for number in S_concs:\n",
    "    velocity = Vmax * number / (Km + number)\n",
    "    velocities.append(velocity)\n",
    "    \n",
    "print(velocities)"
   ]
  },
  {
   "cell_type": "code",
   "execution_count": 59,
   "id": "52c79858",
   "metadata": {},
   "outputs": [
    {
     "name": "stdout",
     "output_type": "stream",
     "text": [
      "[6.25, 11.764705882352942, 16.666666666666668, 21.05263157894737, 28.571428571428573, 34.78260869565217, 40.0, 50.0, 57.142857142857146, 66.66666666666667, 76.92307692307692, 83.33333333333333, 86.95652173913044]\n"
     ]
    }
   ],
   "source": [
    "velocities = []\n",
    "\n",
    "S_concs = [1.0, 2.0, 3.0, 4.0, 6.0, 8.0, 10.0, 15.0 ,20.0, 30.0, 50.0, 75.0, 100.0]\n",
    "for number in S_concs:\n",
    "    velocity = Vmax * number / (Km + number)\n",
    "    velocities.append(velocity)\n",
    "    \n",
    "print(velocities)"
   ]
  },
  {
   "cell_type": "code",
   "execution_count": 60,
   "id": "eef5d119",
   "metadata": {},
   "outputs": [
    {
     "name": "stdout",
     "output_type": "stream",
     "text": [
      "0.1\n",
      "0.2\n",
      "0.3\n",
      "0.5\n",
      "0.7\n"
     ]
    }
   ],
   "source": [
    "for value in amounts:\n",
    "    print(value)"
   ]
  },
  {
   "cell_type": "code",
   "execution_count": 61,
   "id": "65bb7b51",
   "metadata": {},
   "outputs": [
    {
     "name": "stdout",
     "output_type": "stream",
     "text": [
      "0.2\n",
      "0.4\n",
      "0.6\n",
      "1.0\n",
      "1.4\n"
     ]
    }
   ],
   "source": [
    "for value in amounts:\n",
    "    conc = value / volume\n",
    "    print(conc)"
   ]
  },
  {
   "cell_type": "code",
   "execution_count": 63,
   "id": "310b5671",
   "metadata": {},
   "outputs": [
    {
     "name": "stdout",
     "output_type": "stream",
     "text": [
      "[0.2, 0.4, 0.6, 1.0, 1.4]\n"
     ]
    }
   ],
   "source": [
    "concentrations = []\n",
    "\n",
    "for value in amounts:\n",
    "    conc = value / volume\n",
    "    concentrations.append(conc)\n",
    "\n",
    "print(concentrations)"
   ]
  },
  {
   "cell_type": "markdown",
   "id": "3f553d46",
   "metadata": {},
   "source": [
    "## Making choices: Logic Statements\n"
   ]
  },
  {
   "cell_type": "code",
   "execution_count": null,
   "id": "cf968b6c",
   "metadata": {},
   "outputs": [
    {
     "name": "stdout",
     "output_type": "stream",
     "text": [
      "[57.142857142857146, 88.88888888888889]\n"
     ]
    }
   ],
   "source": [
    "Km, Vmax = 25.0, 200.0\n",
    "substrate_concs = [10.0, 20.0, 40.0, 80.0, 100.0]\n",
    "linear_MM = []\n",
    "\n",
    "for number in substrate_concs:\n",
    "    if number < Km:\n",
    "        V_linear = Vmax * number / (Km + number)\n",
    "        linear_MM.append(V_linear)\n",
    "\n",
    "print(linear_MM)"
   ]
  },
  {
   "cell_type": "markdown",
   "id": "24d974b8",
   "metadata": {},
   "source": [
    "Other logic operations include\n",
    "- equal to `==`\n",
    "- not equal to `!=`\n",
    "- greater than `>`\n",
    "- less than `<`\n",
    "- greater than or equal to `>=`\n",
    "- less than or equal to `<=`\n",
    "\n",
    "You can also use `and`, `or`, and `not` to check more than one condition."
   ]
  },
  {
   "cell_type": "code",
   "execution_count": null,
   "id": "aaafe66b",
   "metadata": {},
   "outputs": [],
   "source": []
  },
  {
   "cell_type": "markdown",
   "id": "84b2c07a",
   "metadata": {},
   "source": [
    "## Python dictionaries"
   ]
  },
  {
   "cell_type": "markdown",
   "id": "eb175e99",
   "metadata": {},
   "source": [
    "importatm datatype, a Pythin dictionry is slimiloar to am list in that it i a ncollection of data, but instead of using numbers to refer to the data, you can use a name. You look up minforamtion in a dictionary using names - these are called \"keys\", each key has an associated value. The syntax of the dictionary is this:"
   ]
  },
  {
   "cell_type": "code",
   "execution_count": null,
   "id": "a8d594a2",
   "metadata": {},
   "outputs": [],
   "source": [
    "dictionary_name = {\n",
    "    \"key1_name\" : key1_value,\n",
    "    \"key2_name\" : key2_value,\n",
    "}\n"
   ]
  },
  {
   "cell_type": "code",
   "execution_count": 67,
   "id": "eefd73ae",
   "metadata": {},
   "outputs": [],
   "source": [
    "amino_acids = {\n",
    "    \"ALA\" : 89.10,\n",
    "    \"ARG\" : 174.20,\n",
    "    \"ASN\" : 132.12,\n",
    "    \"ASP\" : 133.11\n",
    "}"
   ]
  },
  {
   "cell_type": "code",
   "execution_count": 68,
   "id": "029e6093",
   "metadata": {},
   "outputs": [
    {
     "data": {
      "text/plain": [
       "89.1"
      ]
     },
     "execution_count": 68,
     "metadata": {},
     "output_type": "execute_result"
    }
   ],
   "source": [
    "amino_acids[\"ALA\"]"
   ]
  },
  {
   "cell_type": "markdown",
   "id": "46ee3eca",
   "metadata": {},
   "source": [
    "See all the keys or all of the values of a disctionary\n",
    "\n"
   ]
  },
  {
   "cell_type": "code",
   "execution_count": 69,
   "id": "be47c03e",
   "metadata": {},
   "outputs": [
    {
     "name": "stdout",
     "output_type": "stream",
     "text": [
      "dict_keys(['ALA', 'ARG', 'ASN', 'ASP'])\n",
      "dict_values([89.1, 174.2, 132.12, 133.11])\n"
     ]
    }
   ],
   "source": [
    "print(amino_acids.keys())\n",
    "print(amino_acids.values())"
   ]
  },
  {
   "cell_type": "markdown",
   "id": "187c328f",
   "metadata": {},
   "source": [
    "A common pattern is to loop through a disctionary using .items()"
   ]
  },
  {
   "cell_type": "code",
   "execution_count": 72,
   "id": "0e63526e",
   "metadata": {},
   "outputs": [
    {
     "name": "stdout",
     "output_type": "stream",
     "text": [
      "The weight of ALA is 89.1.\n",
      "The weight of ARG is 174.2.\n",
      "The weight of ASN is 132.12.\n",
      "The weight of ASP is 133.11.\n"
     ]
    }
   ],
   "source": [
    "for key, value in amino_acids.items():\n",
    "    #print(f\"The key is {key}\")\n",
    "    print(f\"The weight of {key} is {value}.\")"
   ]
  },
  {
   "cell_type": "markdown",
   "id": "e9abd7c5",
   "metadata": {},
   "source": [
    "**Exercise**\n",
    "\n",
    "The following list contains some floating point numbers and some numbers which have been saved as strings.  Copy this list exactly into your code. </p>\n",
    "\n",
    "```python\n",
    "conc_list = ['1.0', 2.0, 5.0, '14.0', 20.0]\n",
    "```\n",
    "Set up a `for` loop to go over each element of `S_list`.  If the element is a string (str), recast it as a float.  Save **all** of the numbers to a new list called number_list.  Pay close attention to your indentation!"
   ]
  },
  {
   "cell_type": "code",
   "execution_count": null,
   "id": "6da9e2d9",
   "metadata": {},
   "outputs": [
    {
     "name": "stdout",
     "output_type": "stream",
     "text": [
      "[1.0, 2.0, 5.0, 14.0, 20.0]\n"
     ]
    }
   ],
   "source": [
    "S_list = ['1.0', 2.0, 5.0, '14.0', 20.0]\n",
    "number_list = []\n",
    "\n",
    "for i in S_list:\n",
    "    if type(i) == str:\n",
    "        recast = float(i)\n",
    "        number_list.append(recast)\n",
    "    if type(i) != str:\n",
    "        recast = (i)\n",
    "        number_list.append(recast)\n",
    "print(number_list)"
   ]
  },
  {
   "cell_type": "markdown",
   "id": "10abb958",
   "metadata": {},
   "source": [
    "## A note about jupyter notebooks\n",
    "If you use the jupyter notebook for your python interpreter, the notebook only executes the current code block.  This can have several unintended consequences. If you change a value and then go back and run an earlier code block, it will use the new value, not the first defined value, which may give you incorrect analysis.  Similarly, if you open your jupyter notebook later, and try to run a code block in the middle, it may tell you that your variables are undefined, even though you can clearly see them defined in earlier code blocks.  But if you didn't re-run those code blocks, then python doesn't know they exist.  "
   ]
  },
  {
   "cell_type": "code",
   "execution_count": null,
   "id": "98cc8d9c",
   "metadata": {},
   "outputs": [],
   "source": []
  }
 ],
 "metadata": {
  "kernelspec": {
   "display_name": "Python 3 (ipykernel)",
   "language": "python",
   "name": "python3"
  },
  "language_info": {
   "codemirror_mode": {
    "name": "ipython",
    "version": 3
   },
   "file_extension": ".py",
   "mimetype": "text/x-python",
   "name": "python",
   "nbconvert_exporter": "python",
   "pygments_lexer": "ipython3",
   "version": "3.11.9"
  }
 },
 "nbformat": 4,
 "nbformat_minor": 5
}
