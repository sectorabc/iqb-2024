{
 "cells": [
  {
   "cell_type": "markdown",
   "metadata": {},
   "source": [
    "Non-Linear Regression I\n",
    "============"
   ]
  },
  {
   "cell_type": "markdown",
   "metadata": {},
   "source": [
    "<div class=\"overview-this-is-a-title overview\">\n",
    "<p class=\"overview-title\">Overview</p>\n",
    "<p>Questions</p>\n",
    "    <ul>\n",
    "        <li> How can I analyze enzyme kinetics data in Python?\n",
    "        <li> What is the process for non-linear least squares curve fitting in Python?\n",
    "    </ul>\n",
    "<p>Objectives:</p>\n",
    "    <ul>\n",
    "        <li> Create a pandas dataframe with enzyme kinetics data from a .csv file.\n",
    "        <li> Add velocity calculations to the dataframe.\n",
    "        <li> MPerform the non-linear regression calculations.\n",
    "    </ul>\n",
    "<p>\n",
    "In this module, we will calculate initial rates from the raw data (ΔA405) in an enzyme kinetics experiment with alkaline phosphatase. In the process, we will import the raw data into a pandas dataframe, use some pandas tools to reorganize the data, produce a second pandas dataframe that contains the substrate concentrations and initial rates at each concentration. Finally, we will export this information to a csv file to use in the next module, where we will explore nonlinear curve fitting in Python.\n",
    "</p>\n",
    "</div>\n",
    "\n"
   ]
  },
  {
   "cell_type": "markdown",
   "metadata": {},
   "source": []
  },
  {
   "cell_type": "markdown",
   "metadata": {},
   "source": [
    "### What is pandas and why do we use it?"
   ]
  },
  {
   "cell_type": "markdown",
   "metadata": {},
   "source": [
    "Please note: this section about pandas is included for those who have not completed the Working with Pandas notebook already. Pandas is a python library that is designed to work with two dimensional data arrays. It is built on numpy, another python library that specializes in numerical analysis. Numpy also has the ability to create and analyze data arrays. If you are not familiar with arrays, here are some simple examples."
   ]
  },
  {
   "cell_type": "markdown",
   "metadata": {},
   "source": [
    "#### 1D arrays\n",
    "A one dimensional array is simply a list of items, for example, a list of the elements: H, He, Li, Be, B, etc.\n",
    "\n",
    "#### 2D arrays\n",
    "A two dimensional array is an array which has rows and columns. It can have any number of columns and rows. A spreadsheet with rows and columns is analogous to a 2D array.\n",
    "\n",
    "#### 3D arrays\n",
    "A three-dimensional array would be a collection of two dimensional arrays. For example, this might be a collection of x, y, and z coordinates for a structure as a function of time.\n",
    "\n",
    "The numpy library has functions that will manage n-dimensional arrays, while pandas only works on 2D arrays. You may need numpy for nD arrays at some point, but for this workshop, we will learn to use pandas as we learn how to perform linear and nonlinear regression of laboratory data based on data in 2D arrays.\n",
    "\n",
    "The pandas library contains powerful tools for working with 2D data arrays, including the ability to identify the rows and columns of data by unique identifiers: things like “Substrate Concentration (mM)” and “initial velocity” rather than “row 1” or “column C”). Pandas also has many more functions that we will not explore in this workshop, but here are three excellent free online resources for learning more about pandas:\n",
    "\n",
    "[Using pandas for data analysis from MolSSI](https://education.molssi.org/python-data-analysis/02-pandas/index.html)\n",
    "\n",
    "[Charlie Weiss’s excellent online textbook](https://education.molssi.org/python-data-analysis/02-pandas/index.html)\n",
    "\n",
    "Scientific Computing for Chemists, which you can find on his GitHub site, [SciCompforChemists](https://weisscharlesj.github.io/SciCompforChemists/intro.html)\n",
    "\n",
    "[Corey Schafer’s Pandas Tutorials on YouTube](https://www.youtube.com/watch?v=ZyhVh-qRZPA&amp;list=PL-osiE80TeTsWmV9i9c58mdDCSskIFdDS)\n",
    "\n",
    "\n"
   ]
  },
  {
   "cell_type": "markdown",
   "metadata": {},
   "source": [
    "### Importing the Data\n",
    "We start by importing data from a csv file as we did earlier with the data for linear regression. These data represent the rate of p-nitrophenol appearance for a series of p-nitrophenol phosphate concentrations in the presence of alkaline phosphatase. We will import the libraries we need, import the data and set up a pandas dataframe."
   ]
  },
  {
   "cell_type": "code",
   "execution_count": 5,
   "metadata": {},
   "outputs": [],
   "source": [
    "# import the libraries we need\n",
    "import os # to create a filehandle for the .csv file\n",
    "import pandas as pd # for importing the .csv file and creating a dataframe\n",
    "from scipy import stats # for performing non-linear regression"
   ]
  },
  {
   "cell_type": "code",
   "execution_count": 6,
   "metadata": {},
   "outputs": [
    {
     "data": {
      "text/plain": [
       "'/workspaces/iqb-2024'"
      ]
     },
     "execution_count": 6,
     "metadata": {},
     "output_type": "execute_result"
    }
   ],
   "source": [
    "os.getcwd()"
   ]
  },
  {
   "cell_type": "code",
   "execution_count": 7,
   "metadata": {},
   "outputs": [
    {
     "name": "stdout",
     "output_type": "stream",
     "text": [
      "/workspaces/iqb-2024/iqb-101\n"
     ]
    }
   ],
   "source": [
    "cd iqb-101/"
   ]
  },
  {
   "cell_type": "code",
   "execution_count": 8,
   "metadata": {},
   "outputs": [
    {
     "name": "stdout",
     "output_type": "stream",
     "text": [
      "data/AP_kin.csv\n"
     ]
    }
   ],
   "source": [
    "# Create the filehandle for the csv file that contains your data\n",
    "datafile = os.path.join('data', 'AP_kin.csv') # filehandle created\n",
    "print(datafile)  # filehandle confirmed"
   ]
  },
  {
   "cell_type": "markdown",
   "metadata": {},
   "source": [
    "### Creating the pandas dataframe\n",
    "The filehandle, datafile, points to a csv file that contains the raw kinetics data. As we saw in the Working with Pandas module, the pandas library has a tool for creating a dataframe from an existing csv file. Notice that the variable for the dataframe is called AP_kin_df. The _df at the end of the variable name is a reminder that this is a pandas dataframe."
   ]
  },
  {
   "cell_type": "code",
   "execution_count": 16,
   "metadata": {},
   "outputs": [
    {
     "data": {
      "text/html": [
       "<div>\n",
       "<style scoped>\n",
       "    .dataframe tbody tr th:only-of-type {\n",
       "        vertical-align: middle;\n",
       "    }\n",
       "\n",
       "    .dataframe tbody tr th {\n",
       "        vertical-align: top;\n",
       "    }\n",
       "\n",
       "    .dataframe thead th {\n",
       "        text-align: right;\n",
       "    }\n",
       "</style>\n",
       "<table border=\"1\" class=\"dataframe\">\n",
       "  <thead>\n",
       "    <tr style=\"text-align: right;\">\n",
       "      <th></th>\n",
       "      <th>Time (min)</th>\n",
       "      <th>20.0</th>\n",
       "      <th>10.0</th>\n",
       "      <th>7.0</th>\n",
       "      <th>4.0</th>\n",
       "      <th>2.0</th>\n",
       "      <th>1.0</th>\n",
       "      <th>0.7</th>\n",
       "      <th>0.4</th>\n",
       "      <th>0.2</th>\n",
       "      <th>0.1</th>\n",
       "      <th>0.05</th>\n",
       "    </tr>\n",
       "  </thead>\n",
       "  <tbody>\n",
       "    <tr>\n",
       "      <th>0</th>\n",
       "      <td>0.25</td>\n",
       "      <td>0.127118</td>\n",
       "      <td>0.121434</td>\n",
       "      <td>0.123059</td>\n",
       "      <td>0.103351</td>\n",
       "      <td>0.088046</td>\n",
       "      <td>0.062613</td>\n",
       "      <td>0.051681</td>\n",
       "      <td>0.034661</td>\n",
       "      <td>0.019578</td>\n",
       "      <td>0.020353</td>\n",
       "      <td>0.005635</td>\n",
       "    </tr>\n",
       "    <tr>\n",
       "      <th>1</th>\n",
       "      <td>0.50</td>\n",
       "      <td>0.269802</td>\n",
       "      <td>0.257587</td>\n",
       "      <td>0.239086</td>\n",
       "      <td>0.210920</td>\n",
       "      <td>0.177801</td>\n",
       "      <td>0.122747</td>\n",
       "      <td>0.104366</td>\n",
       "      <td>0.068643</td>\n",
       "      <td>0.040318</td>\n",
       "      <td>0.040318</td>\n",
       "      <td>0.011162</td>\n",
       "    </tr>\n",
       "    <tr>\n",
       "      <th>2</th>\n",
       "      <td>0.75</td>\n",
       "      <td>0.373572</td>\n",
       "      <td>0.364301</td>\n",
       "      <td>0.369177</td>\n",
       "      <td>0.313216</td>\n",
       "      <td>0.246186</td>\n",
       "      <td>0.193419</td>\n",
       "      <td>0.147517</td>\n",
       "      <td>0.099906</td>\n",
       "      <td>0.059896</td>\n",
       "      <td>0.056988</td>\n",
       "      <td>0.016580</td>\n",
       "    </tr>\n",
       "    <tr>\n",
       "      <th>3</th>\n",
       "      <td>1.00</td>\n",
       "      <td>0.518850</td>\n",
       "      <td>0.500455</td>\n",
       "      <td>0.468796</td>\n",
       "      <td>0.400747</td>\n",
       "      <td>0.352183</td>\n",
       "      <td>0.257892</td>\n",
       "      <td>0.194682</td>\n",
       "      <td>0.134567</td>\n",
       "      <td>0.073658</td>\n",
       "      <td>0.075985</td>\n",
       "      <td>0.022757</td>\n",
       "    </tr>\n",
       "    <tr>\n",
       "      <th>4</th>\n",
       "      <td>1.25</td>\n",
       "      <td>0.616135</td>\n",
       "      <td>0.613302</td>\n",
       "      <td>0.556695</td>\n",
       "      <td>0.500934</td>\n",
       "      <td>0.444503</td>\n",
       "      <td>0.309966</td>\n",
       "      <td>0.258405</td>\n",
       "      <td>0.173306</td>\n",
       "      <td>0.099827</td>\n",
       "      <td>0.100796</td>\n",
       "      <td>0.027092</td>\n",
       "    </tr>\n",
       "  </tbody>\n",
       "</table>\n",
       "</div>"
      ],
      "text/plain": [
       "   Time (min)      20.0      10.0       7.0       4.0       2.0       1.0  \\\n",
       "0        0.25  0.127118  0.121434  0.123059  0.103351  0.088046  0.062613   \n",
       "1        0.50  0.269802  0.257587  0.239086  0.210920  0.177801  0.122747   \n",
       "2        0.75  0.373572  0.364301  0.369177  0.313216  0.246186  0.193419   \n",
       "3        1.00  0.518850  0.500455  0.468796  0.400747  0.352183  0.257892   \n",
       "4        1.25  0.616135  0.613302  0.556695  0.500934  0.444503  0.309966   \n",
       "\n",
       "        0.7       0.4       0.2       0.1      0.05  \n",
       "0  0.051681  0.034661  0.019578  0.020353  0.005635  \n",
       "1  0.104366  0.068643  0.040318  0.040318  0.011162  \n",
       "2  0.147517  0.099906  0.059896  0.056988  0.016580  \n",
       "3  0.194682  0.134567  0.073658  0.075985  0.022757  \n",
       "4  0.258405  0.173306  0.099827  0.100796  0.027092  "
      ]
     },
     "execution_count": 16,
     "metadata": {},
     "output_type": "execute_result"
    }
   ],
   "source": [
    "# Creating the pandas dataframe using read_csv\n",
    "\n",
    "AP_kin_df = pd.read_csv(datafile)\n",
    "\n",
    "AP_kin_df.head()  # looking at the first five rows of the dataframe "
   ]
  },
  {
   "cell_type": "markdown",
   "metadata": {},
   "source": [
    "When you look at this dataframe, notice that the index (the item at the far left of each row) is an integer. In this case, we want to use the ‘Time (min)’ values that are found in the first series as the index. There is a simple fix - the set_index function."
   ]
  },
  {
   "cell_type": "code",
   "execution_count": 17,
   "metadata": {},
   "outputs": [
    {
     "data": {
      "text/html": [
       "<div>\n",
       "<style scoped>\n",
       "    .dataframe tbody tr th:only-of-type {\n",
       "        vertical-align: middle;\n",
       "    }\n",
       "\n",
       "    .dataframe tbody tr th {\n",
       "        vertical-align: top;\n",
       "    }\n",
       "\n",
       "    .dataframe thead th {\n",
       "        text-align: right;\n",
       "    }\n",
       "</style>\n",
       "<table border=\"1\" class=\"dataframe\">\n",
       "  <thead>\n",
       "    <tr style=\"text-align: right;\">\n",
       "      <th></th>\n",
       "      <th>20.0</th>\n",
       "      <th>10.0</th>\n",
       "      <th>7.0</th>\n",
       "      <th>4.0</th>\n",
       "      <th>2.0</th>\n",
       "      <th>1.0</th>\n",
       "      <th>0.7</th>\n",
       "      <th>0.4</th>\n",
       "      <th>0.2</th>\n",
       "      <th>0.1</th>\n",
       "      <th>0.05</th>\n",
       "    </tr>\n",
       "    <tr>\n",
       "      <th>Time (min)</th>\n",
       "      <th></th>\n",
       "      <th></th>\n",
       "      <th></th>\n",
       "      <th></th>\n",
       "      <th></th>\n",
       "      <th></th>\n",
       "      <th></th>\n",
       "      <th></th>\n",
       "      <th></th>\n",
       "      <th></th>\n",
       "      <th></th>\n",
       "    </tr>\n",
       "  </thead>\n",
       "  <tbody>\n",
       "    <tr>\n",
       "      <th>0.25</th>\n",
       "      <td>0.127118</td>\n",
       "      <td>0.121434</td>\n",
       "      <td>0.123059</td>\n",
       "      <td>0.103351</td>\n",
       "      <td>0.088046</td>\n",
       "      <td>0.062613</td>\n",
       "      <td>0.051681</td>\n",
       "      <td>0.034661</td>\n",
       "      <td>0.019578</td>\n",
       "      <td>0.020353</td>\n",
       "      <td>0.005635</td>\n",
       "    </tr>\n",
       "    <tr>\n",
       "      <th>0.50</th>\n",
       "      <td>0.269802</td>\n",
       "      <td>0.257587</td>\n",
       "      <td>0.239086</td>\n",
       "      <td>0.210920</td>\n",
       "      <td>0.177801</td>\n",
       "      <td>0.122747</td>\n",
       "      <td>0.104366</td>\n",
       "      <td>0.068643</td>\n",
       "      <td>0.040318</td>\n",
       "      <td>0.040318</td>\n",
       "      <td>0.011162</td>\n",
       "    </tr>\n",
       "    <tr>\n",
       "      <th>0.75</th>\n",
       "      <td>0.373572</td>\n",
       "      <td>0.364301</td>\n",
       "      <td>0.369177</td>\n",
       "      <td>0.313216</td>\n",
       "      <td>0.246186</td>\n",
       "      <td>0.193419</td>\n",
       "      <td>0.147517</td>\n",
       "      <td>0.099906</td>\n",
       "      <td>0.059896</td>\n",
       "      <td>0.056988</td>\n",
       "      <td>0.016580</td>\n",
       "    </tr>\n",
       "    <tr>\n",
       "      <th>1.00</th>\n",
       "      <td>0.518850</td>\n",
       "      <td>0.500455</td>\n",
       "      <td>0.468796</td>\n",
       "      <td>0.400747</td>\n",
       "      <td>0.352183</td>\n",
       "      <td>0.257892</td>\n",
       "      <td>0.194682</td>\n",
       "      <td>0.134567</td>\n",
       "      <td>0.073658</td>\n",
       "      <td>0.075985</td>\n",
       "      <td>0.022757</td>\n",
       "    </tr>\n",
       "    <tr>\n",
       "      <th>1.25</th>\n",
       "      <td>0.616135</td>\n",
       "      <td>0.613302</td>\n",
       "      <td>0.556695</td>\n",
       "      <td>0.500934</td>\n",
       "      <td>0.444503</td>\n",
       "      <td>0.309966</td>\n",
       "      <td>0.258405</td>\n",
       "      <td>0.173306</td>\n",
       "      <td>0.099827</td>\n",
       "      <td>0.100796</td>\n",
       "      <td>0.027092</td>\n",
       "    </tr>\n",
       "  </tbody>\n",
       "</table>\n",
       "</div>"
      ],
      "text/plain": [
       "                20.0      10.0       7.0       4.0       2.0       1.0  \\\n",
       "Time (min)                                                               \n",
       "0.25        0.127118  0.121434  0.123059  0.103351  0.088046  0.062613   \n",
       "0.50        0.269802  0.257587  0.239086  0.210920  0.177801  0.122747   \n",
       "0.75        0.373572  0.364301  0.369177  0.313216  0.246186  0.193419   \n",
       "1.00        0.518850  0.500455  0.468796  0.400747  0.352183  0.257892   \n",
       "1.25        0.616135  0.613302  0.556695  0.500934  0.444503  0.309966   \n",
       "\n",
       "                 0.7       0.4       0.2       0.1      0.05  \n",
       "Time (min)                                                    \n",
       "0.25        0.051681  0.034661  0.019578  0.020353  0.005635  \n",
       "0.50        0.104366  0.068643  0.040318  0.040318  0.011162  \n",
       "0.75        0.147517  0.099906  0.059896  0.056988  0.016580  \n",
       "1.00        0.194682  0.134567  0.073658  0.075985  0.022757  \n",
       "1.25        0.258405  0.173306  0.099827  0.100796  0.027092  "
      ]
     },
     "execution_count": 17,
     "metadata": {},
     "output_type": "execute_result"
    }
   ],
   "source": [
    "# Set index to values in the Time column\n",
    "AP_kin_df.set_index('Time (min)', inplace=True)\n",
    "AP_kin_df.head() # to make sure we got what we expected"
   ]
  },
  {
   "cell_type": "markdown",
   "metadata": {},
   "source": [
    "By making the time values the index for each row, we can easily omit them from our initial rate calculations. We use the 'inplace=True' option to make the change to the dataframe permanent."
   ]
  },
  {
   "cell_type": "markdown",
   "metadata": {},
   "source": [
    "### Datatype"
   ]
  },
  {
   "cell_type": "markdown",
   "metadata": {},
   "source": [
    "Before we calculate the slopes to get initial velocities, we need to check for the datatypes on the numbers. We must ensure that the numbers are floats, rather than strings, so we can do calculations on them."
   ]
  },
  {
   "cell_type": "code",
   "execution_count": 18,
   "metadata": {},
   "outputs": [
    {
     "data": {
      "text/plain": [
       "dtype('float64')"
      ]
     },
     "execution_count": 18,
     "metadata": {},
     "output_type": "execute_result"
    }
   ],
   "source": [
    " # checking to see if the numbers are strings or floats\n",
    "AP_kin_df.index.dtype"
   ]
  },
  {
   "cell_type": "markdown",
   "metadata": {},
   "source": [
    "### Calculating the initial velocity\n",
    "The index for each row is the time, which will be the x values to get the slope of each line. The values in each column are the absorbance values at each time point, so those will be our y values. Now we need to follow these steps to calculate the initial velocity at each substrate concentration.\n",
    "\n",
    "1. Inspect the data.\n",
    "\n",
    "2. Create a second dataframe with the substrate concentration as the first series.\n",
    "\n",
    "3. Calculate the slopes from the first dataframe and add those as a column to the second dataframe.\n",
    "\n",
    "4. Calculate the initial velocity by dividing the slope by the extinction coefficient for p-nitrophenol under these buffer conditions, 15.0 mM-1cm-1.\n",
    "\n",
    "5. Export the second dataframe to a csv file that we will use in the next module."
   ]
  },
  {
   "cell_type": "markdown",
   "metadata": {},
   "source": [
    "#### Inspect the data\n",
    "In an earlier module, we used pyplot from matplotlib to create a well-annotated plot of our linear regression data. We could do that here, but we only want to inspect the data to make sure we are on the right track. To do that we can use the plot command from pandas, which builds the plot using tools from matplotlib. The syntax is\n",
    "\n"
   ]
  },
  {
   "cell_type": "code",
   "execution_count": null,
   "metadata": {},
   "outputs": [],
   "source": [
    "dataframe.plot()"
   ]
  },
  {
   "cell_type": "markdown",
   "metadata": {},
   "source": [
    "In our case, the only argument we will pass is “marker = ‘o’ so that the individual data points will appear."
   ]
  },
  {
   "cell_type": "code",
   "execution_count": 22,
   "metadata": {},
   "outputs": [
    {
     "data": {
      "text/plain": [
       "<Axes: xlabel='Time (min)'>"
      ]
     },
     "execution_count": 22,
     "metadata": {},
     "output_type": "execute_result"
    },
    {
     "data": {
      "image/png": "[encoded data removed]",
      "text/plain": [
       "<Figure size 640x480 with 1 Axes>"
      ]
     },
     "metadata": {},
     "output_type": "display_data"
    }
   ],
   "source": [
    "# 1. Inspect the data using the plot command available with the datafame\n",
    "# We use the plot function built into pandas\n",
    "\n",
    "AP_kin_df.plot()"
   ]
  },
  {
   "cell_type": "code",
   "execution_count": 37,
   "metadata": {},
   "outputs": [
    {
     "data": {
      "text/plain": [
       "<Axes: xlabel='Time (min)'>"
      ]
     },
     "execution_count": 37,
     "metadata": {},
     "output_type": "execute_result"
    },
    {
     "data": {
      "image/png": "[encoded data removed]",
      "text/plain": [
       "<Figure size 640x480 with 1 Axes>"
      ]
     },
     "metadata": {},
     "output_type": "display_data"
    }
   ],
   "source": [
    "AP_kin_df.plot(marker = 's') \n",
    "\n",
    "# marker styles e.g.,  o - circles, d - diamonds, s - squares"
   ]
  },
  {
   "cell_type": "code",
   "execution_count": 47,
   "metadata": {},
   "outputs": [
    {
     "data": {
      "text/html": [
       "<div>\n",
       "<style scoped>\n",
       "    .dataframe tbody tr th:only-of-type {\n",
       "        vertical-align: middle;\n",
       "    }\n",
       "\n",
       "    .dataframe tbody tr th {\n",
       "        vertical-align: top;\n",
       "    }\n",
       "\n",
       "    .dataframe thead th {\n",
       "        text-align: right;\n",
       "    }\n",
       "</style>\n",
       "<table border=\"1\" class=\"dataframe\">\n",
       "  <thead>\n",
       "    <tr style=\"text-align: right;\">\n",
       "      <th></th>\n",
       "      <th>pNPP (mM)</th>\n",
       "    </tr>\n",
       "  </thead>\n",
       "  <tbody>\n",
       "    <tr>\n",
       "      <th>0</th>\n",
       "      <td>20.0</td>\n",
       "    </tr>\n",
       "    <tr>\n",
       "      <th>1</th>\n",
       "      <td>10.0</td>\n",
       "    </tr>\n",
       "    <tr>\n",
       "      <th>2</th>\n",
       "      <td>7.0</td>\n",
       "    </tr>\n",
       "    <tr>\n",
       "      <th>3</th>\n",
       "      <td>4.0</td>\n",
       "    </tr>\n",
       "    <tr>\n",
       "      <th>4</th>\n",
       "      <td>2.0</td>\n",
       "    </tr>\n",
       "    <tr>\n",
       "      <th>5</th>\n",
       "      <td>1.0</td>\n",
       "    </tr>\n",
       "    <tr>\n",
       "      <th>6</th>\n",
       "      <td>0.7</td>\n",
       "    </tr>\n",
       "    <tr>\n",
       "      <th>7</th>\n",
       "      <td>0.4</td>\n",
       "    </tr>\n",
       "    <tr>\n",
       "      <th>8</th>\n",
       "      <td>0.2</td>\n",
       "    </tr>\n",
       "    <tr>\n",
       "      <th>9</th>\n",
       "      <td>0.1</td>\n",
       "    </tr>\n",
       "    <tr>\n",
       "      <th>10</th>\n",
       "      <td>0.05</td>\n",
       "    </tr>\n",
       "  </tbody>\n",
       "</table>\n",
       "</div>"
      ],
      "text/plain": [
       "   pNPP (mM)\n",
       "0       20.0\n",
       "1       10.0\n",
       "2        7.0\n",
       "3        4.0\n",
       "4        2.0\n",
       "5        1.0\n",
       "6        0.7\n",
       "7        0.4\n",
       "8        0.2\n",
       "9        0.1\n",
       "10      0.05"
      ]
     },
     "execution_count": 47,
     "metadata": {},
     "output_type": "execute_result"
    }
   ],
   "source": [
    "# 2. Create a second dataframe with the substrate concentration as the first series.\n",
    "# Note the syntax for this pandas function - the D and F are capitalized.\n",
    "MM_df = pd.DataFrame()\n",
    "MM_df['pNPP (mM)'] = AP_kin_df.columns # .columns = all columns headers\n",
    "MM_df"
   ]
  },
  {
   "cell_type": "markdown",
   "metadata": {},
   "source": [
    "#### Calculate the slope\n",
    "There is some scatter in the data, but generally, the slopes of the curves increase with increasing substrate concentration. Now we need to calculate the slopes for each of the lines in the plot above. To do so, we can use the linregress function from scipy.stats that we used for the least squares linear regression analysis of the protein assay data from an earlier module. We will use the index from our data frame, Time (min), AP_kin_df. The y values will be taken from each of the series from the same dataframe.\n",
    "\n",
    "Remember that linregress provides five outputs: slope, intercept, r-value, p-value and standard error. We need only the slope, so we will use this format"
   ]
  },
  {
   "cell_type": "code",
   "execution_count": null,
   "metadata": {},
   "outputs": [],
   "source": [
    "slope, _, _, _, _ = stats.linregress(xdata, ydata)"
   ]
  },
  {
   "cell_type": "markdown",
   "metadata": {},
   "source": [
    "where _ is just a placeholder that we will ignore.\n",
    "\n",
    "To get the slopes for each series we will use a for loop. First, we’ll create an empty list to contain the slopes that are generated as the for loop cycles through the series in the AP_kin_df dataframe.\n"
   ]
  },
  {
   "cell_type": "code",
   "execution_count": 48,
   "metadata": {},
   "outputs": [
    {
     "data": {
      "text/plain": [
       "[0.5140907641142857,\n",
       " 0.5031401632390977,\n",
       " 0.4704346427639098,\n",
       " 0.4170212341052632,\n",
       " 0.3424447812571429,\n",
       " 0.2462595355909775,\n",
       " 0.20284295232781954,\n",
       " 0.1364430576421053,\n",
       " 0.07644213958496242,\n",
       " 0.07806979615939849,\n",
       " 0.022319351245112782]"
      ]
     },
     "execution_count": 48,
     "metadata": {},
     "output_type": "execute_result"
    }
   ],
   "source": [
    "# Create an empty list to hold the slopes \n",
    "slopes = []\n",
    "\n",
    "# 3. Calculate the slopes from each column in the AP_kin_df dataframe\n",
    "for column in AP_kin_df.columns : \n",
    "    slope, _, _, _, _ = stats.linregress(AP_kin_df.index, AP_kin_df[column])\n",
    "    slopes.append(slope)\n",
    "\n",
    "slopes"
   ]
  },
  {
   "cell_type": "code",
   "execution_count": 49,
   "metadata": {},
   "outputs": [
    {
     "data": {
      "text/html": [
       "<div>\n",
       "<style scoped>\n",
       "    .dataframe tbody tr th:only-of-type {\n",
       "        vertical-align: middle;\n",
       "    }\n",
       "\n",
       "    .dataframe tbody tr th {\n",
       "        vertical-align: top;\n",
       "    }\n",
       "\n",
       "    .dataframe thead th {\n",
       "        text-align: right;\n",
       "    }\n",
       "</style>\n",
       "<table border=\"1\" class=\"dataframe\">\n",
       "  <thead>\n",
       "    <tr style=\"text-align: right;\">\n",
       "      <th></th>\n",
       "      <th>pNPP (mM)</th>\n",
       "      <th>slope</th>\n",
       "    </tr>\n",
       "  </thead>\n",
       "  <tbody>\n",
       "    <tr>\n",
       "      <th>0</th>\n",
       "      <td>20.0</td>\n",
       "      <td>0.514091</td>\n",
       "    </tr>\n",
       "    <tr>\n",
       "      <th>1</th>\n",
       "      <td>10.0</td>\n",
       "      <td>0.503140</td>\n",
       "    </tr>\n",
       "    <tr>\n",
       "      <th>2</th>\n",
       "      <td>7.0</td>\n",
       "      <td>0.470435</td>\n",
       "    </tr>\n",
       "    <tr>\n",
       "      <th>3</th>\n",
       "      <td>4.0</td>\n",
       "      <td>0.417021</td>\n",
       "    </tr>\n",
       "    <tr>\n",
       "      <th>4</th>\n",
       "      <td>2.0</td>\n",
       "      <td>0.342445</td>\n",
       "    </tr>\n",
       "    <tr>\n",
       "      <th>5</th>\n",
       "      <td>1.0</td>\n",
       "      <td>0.246260</td>\n",
       "    </tr>\n",
       "    <tr>\n",
       "      <th>6</th>\n",
       "      <td>0.7</td>\n",
       "      <td>0.202843</td>\n",
       "    </tr>\n",
       "    <tr>\n",
       "      <th>7</th>\n",
       "      <td>0.4</td>\n",
       "      <td>0.136443</td>\n",
       "    </tr>\n",
       "    <tr>\n",
       "      <th>8</th>\n",
       "      <td>0.2</td>\n",
       "      <td>0.076442</td>\n",
       "    </tr>\n",
       "    <tr>\n",
       "      <th>9</th>\n",
       "      <td>0.1</td>\n",
       "      <td>0.078070</td>\n",
       "    </tr>\n",
       "    <tr>\n",
       "      <th>10</th>\n",
       "      <td>0.05</td>\n",
       "      <td>0.022319</td>\n",
       "    </tr>\n",
       "  </tbody>\n",
       "</table>\n",
       "</div>"
      ],
      "text/plain": [
       "   pNPP (mM)     slope\n",
       "0       20.0  0.514091\n",
       "1       10.0  0.503140\n",
       "2        7.0  0.470435\n",
       "3        4.0  0.417021\n",
       "4        2.0  0.342445\n",
       "5        1.0  0.246260\n",
       "6        0.7  0.202843\n",
       "7        0.4  0.136443\n",
       "8        0.2  0.076442\n",
       "9        0.1  0.078070\n",
       "10      0.05  0.022319"
      ]
     },
     "execution_count": 49,
     "metadata": {},
     "output_type": "execute_result"
    }
   ],
   "source": [
    "# Populate the new dataframe withn the slopes\n",
    "MM_df['slope'] = slopes\n",
    "MM_df"
   ]
  },
  {
   "cell_type": "markdown",
   "metadata": {},
   "source": [
    "#### Calculate the initial velocity\n",
    "The initial velocity can be calculated by dividing the slope by the micromolar extinction coefficient under the experimental conditions, 0.015 &mu;M<sup>-1</sup> cm<sup>-1</sup>. It is possible to complete the calculation and add it to the dataframe with a single line of code."
   ]
  },
  {
   "cell_type": "code",
   "execution_count": null,
   "metadata": {},
   "outputs": [],
   "source": []
  },
  {
   "cell_type": "markdown",
   "metadata": {},
   "source": [
    "**Check your understanding** \n",
    "\n",
    "Check that your file was read in correctly by determining how many lines are in the file.\n",
    "\n"
   ]
  },
  {
   "cell_type": "markdown",
   "metadata": {},
   "source": []
  },
  {
   "cell_type": "code",
   "execution_count": null,
   "metadata": {},
   "outputs": [],
   "source": []
  }
 ],
 "metadata": {
  "kernelspec": {
   "display_name": "Python 3 (ipykernel)",
   "language": "python",
   "name": "python3"
  },
  "language_info": {
   "codemirror_mode": {
    "name": "ipython",
    "version": 3
   },
   "file_extension": ".py",
   "mimetype": "text/x-python",
   "name": "python",
   "nbconvert_exporter": "python",
   "pygments_lexer": "ipython3",
   "version": "3.11.9"
  }
 },
 "nbformat": 4,
 "nbformat_minor": 4
}
