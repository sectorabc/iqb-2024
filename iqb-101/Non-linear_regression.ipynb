{
 "cells": [
  {
   "cell_type": "markdown",
   "metadata": {},
   "source": [
    "Linear Regression\n",
    "============"
   ]
  },
  {
   "cell_type": "markdown",
   "metadata": {},
   "source": [
    "<div class=\"overview-this-is-a-title overview\">\n",
    "<p class=\"overview-title\">Overview</p>\n",
    "<p>Questions</p>\n",
    "    <ul>\n",
    "        <li> How do I sort through all the information in a text file and extract particular pieces of information?\n",
    "    </ul>\n",
    "<p>Objectives:</p>\n",
    "    <ul>\n",
    "        <li> Open a file and read in its contents line by line.\n",
    "        <li> Search for a particular string in a file.\n",
    "        <li> Manipulate strings and change data types.\n",
    "        <li> Print to a new file.\n",
    "    </ul>\n",
    "<p>Key Points:</p>\n",
    "    <ul>\n",
    "        <li> You should use the os.path module to work with file paths.\n",
    "        <li> One of the most flexible ways to read in the lines of a file is the `readlines()` function.\n",
    "        <li> An <ital>if</ital> statement can be used to find a particular string within a file.\n",
    "        <li> The split() function can be used to seperate the elements of a string.\n",
    "        <li> You will often need to recast data into a different data type when it was read in as a string.\n",
    "    </ul>\n",
    "</div>"
   ]
  },
  {
   "cell_type": "markdown",
   "metadata": {},
   "source": []
  },
  {
   "cell_type": "markdown",
   "metadata": {},
   "source": [
    "### Whyat is pandas"
   ]
  },
  {
   "cell_type": "markdown",
   "metadata": {},
   "source": [
    "**Check your understanding** \n",
    "\n",
    "Check that your file was read in correctly by determining how many lines are in the file."
   ]
  },
  {
   "cell_type": "code",
   "execution_count": null,
   "metadata": {},
   "outputs": [],
   "source": []
  }
 ],
 "metadata": {
  "kernelspec": {
   "display_name": "Python 3 (ipykernel)",
   "language": "python",
   "name": "python3"
  },
  "language_info": {
   "codemirror_mode": {
    "name": "ipython",
    "version": 3
   },
   "file_extension": ".py",
   "mimetype": "text/x-python",
   "name": "python",
   "nbconvert_exporter": "python",
   "pygments_lexer": "ipython3",
   "version": "3.11.9"
  }
 },
 "nbformat": 4,
 "nbformat_minor": 4
}
