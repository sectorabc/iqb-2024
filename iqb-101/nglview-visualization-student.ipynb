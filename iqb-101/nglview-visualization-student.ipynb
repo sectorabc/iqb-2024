{
 "cells": [
  {
   "cell_type": "markdown",
   "id": "e82d2f49",
   "metadata": {},
   "source": [
    "# Protein Visualization\n",
    "\n",
    "You can use Python and the Jupyter notebook to interactively visualize pdb files.\n",
    "\n",
    "Questions:\n",
    "- How can I use Python and the Jupyter notebook to visualize protein files?\n",
    "\n",
    "Objectives\n",
    "- Use the Python library `nglview` to visualize pdb files. \n",
    "- Learn about different molecular representations.\n",
    "- Learn how to change molecule representation and display color.\n",
    "- Learn how to select different parts of the protein structure file.\n",
    "- Learn to save images.\n",
    "\n",
    "## NGLView\n",
    "In this notebook, we will use the Python library `nglview` to visualize data from pdb files. To use `nglview`, we first have to import it. We usually will shorten `nglview` to `nv`. We will also import `os` to build our file path for our pdb file."
   ]
  },
  {
   "cell_type": "code",
   "execution_count": 1,
   "id": "cab4b6ae",
   "metadata": {},
   "outputs": [
    {
     "ename": "AttributeError",
     "evalue": "'super' object has no attribute '_ipython_display_'",
     "output_type": "error",
     "traceback": [
      "\u001b[0;31m---------------------------------------------------------------------------\u001b[0m",
      "\u001b[0;31mAttributeError\u001b[0m                            Traceback (most recent call last)",
      "File \u001b[0;32m/opt/conda/lib/python3.11/site-packages/IPython/core/formatters.py:922\u001b[0m, in \u001b[0;36mIPythonDisplayFormatter.__call__\u001b[0;34m(self, obj)\u001b[0m\n\u001b[1;32m    920\u001b[0m method \u001b[38;5;241m=\u001b[39m get_real_method(obj, \u001b[38;5;28mself\u001b[39m\u001b[38;5;241m.\u001b[39mprint_method)\n\u001b[1;32m    921\u001b[0m \u001b[38;5;28;01mif\u001b[39;00m method \u001b[38;5;129;01mis\u001b[39;00m \u001b[38;5;129;01mnot\u001b[39;00m \u001b[38;5;28;01mNone\u001b[39;00m:\n\u001b[0;32m--> 922\u001b[0m     method()\n\u001b[1;32m    923\u001b[0m     \u001b[38;5;28;01mreturn\u001b[39;00m \u001b[38;5;28;01mTrue\u001b[39;00m\n",
      "File \u001b[0;32m/opt/conda/lib/python3.11/site-packages/nglview/color.py:54\u001b[0m, in \u001b[0;36m_ColormakerRegistry._ipython_display_\u001b[0;34m(self, **kwargs)\u001b[0m\n\u001b[1;32m     52\u001b[0m \u001b[38;5;28;01mif\u001b[39;00m \u001b[38;5;28mself\u001b[39m\u001b[38;5;241m.\u001b[39m_ready:\n\u001b[1;32m     53\u001b[0m     \u001b[38;5;28;01mreturn\u001b[39;00m\n\u001b[0;32m---> 54\u001b[0m \u001b[38;5;28msuper\u001b[39m()\u001b[38;5;241m.\u001b[39m_ipython_display_(\u001b[38;5;241m*\u001b[39m\u001b[38;5;241m*\u001b[39mkwargs)\n",
      "\u001b[0;31mAttributeError\u001b[0m: 'super' object has no attribute '_ipython_display_'"
     ]
    },
    {
     "data": {
      "application/vnd.jupyter.widget-view+json": {
       "model_id": "0cd1ebec77264614ac21d7226fb7a9b9",
       "version_major": 2,
       "version_minor": 0
      },
      "text/plain": [
       "_ColormakerRegistry()"
      ]
     },
     "metadata": {},
     "output_type": "display_data"
    }
   ],
   "source": [
    "import os\n",
    "import nglview as nv"
   ]
  },
  {
   "cell_type": "markdown",
   "id": "4f0a9071",
   "metadata": {},
   "source": [
    "To visualize data from a file, we will use the `show_file` function. You put the file path of the pdb you want to view in this function. We will set this equal to a variable called `view`."
   ]
  },
  {
   "cell_type": "code",
   "execution_count": 2,
   "id": "55910a0a",
   "metadata": {},
   "outputs": [
    {
     "name": "stdout",
     "output_type": "stream",
     "text": [
      "/workspaces/iqb-2024/iqb-101\n"
     ]
    }
   ],
   "source": [
    "cd iqb-101/\n"
   ]
  },
  {
   "cell_type": "code",
   "execution_count": 3,
   "id": "1ac26251",
   "metadata": {},
   "outputs": [
    {
     "data": {
      "text/plain": [
       "['5eu9.pdb',\n",
       " '3iva.pdb',\n",
       " '3fgu.pdb',\n",
       " '3vnd.pdb',\n",
       " '6zt7.pdb',\n",
       " '1ddo.pdb',\n",
       " '4eyr.pdb',\n",
       " '5veu.pdb',\n",
       " '2pkr.pdb',\n",
       " '7tim.pdb']"
      ]
     },
     "execution_count": 3,
     "metadata": {},
     "output_type": "execute_result"
    }
   ],
   "source": [
    "import os\n",
    "os.getcwd()\n",
    "os.listdir(\"PDB_files\")\n"
   ]
  },
  {
   "cell_type": "code",
   "execution_count": 4,
   "id": "e3dac0fe",
   "metadata": {},
   "outputs": [],
   "source": [
    "filepath = os.path.join('PDB_files', '3fgu.pdb' )\n"
   ]
  },
  {
   "cell_type": "code",
   "execution_count": 5,
   "id": "5b37b126",
   "metadata": {},
   "outputs": [],
   "source": [
    "\n",
    "import nglview as nv\n",
    "view = nv.show_file(filepath)"
   ]
  },
  {
   "cell_type": "markdown",
   "id": "9a82c0e7",
   "metadata": {},
   "source": [
    "To actually see our pdb representation, we just type the variable `view` as the last thing in a notebook cell."
   ]
  },
  {
   "cell_type": "code",
   "execution_count": 6,
   "id": "ebcce30e",
   "metadata": {},
   "outputs": [
    {
     "ename": "AttributeError",
     "evalue": "'super' object has no attribute '_ipython_display_'",
     "output_type": "error",
     "traceback": [
      "\u001b[0;31m---------------------------------------------------------------------------\u001b[0m",
      "\u001b[0;31mAttributeError\u001b[0m                            Traceback (most recent call last)",
      "File \u001b[0;32m/opt/conda/lib/python3.11/site-packages/IPython/core/formatters.py:922\u001b[0m, in \u001b[0;36mIPythonDisplayFormatter.__call__\u001b[0;34m(self, obj)\u001b[0m\n\u001b[1;32m    920\u001b[0m method \u001b[38;5;241m=\u001b[39m get_real_method(obj, \u001b[38;5;28mself\u001b[39m\u001b[38;5;241m.\u001b[39mprint_method)\n\u001b[1;32m    921\u001b[0m \u001b[38;5;28;01mif\u001b[39;00m method \u001b[38;5;129;01mis\u001b[39;00m \u001b[38;5;129;01mnot\u001b[39;00m \u001b[38;5;28;01mNone\u001b[39;00m:\n\u001b[0;32m--> 922\u001b[0m     method()\n\u001b[1;32m    923\u001b[0m     \u001b[38;5;28;01mreturn\u001b[39;00m \u001b[38;5;28;01mTrue\u001b[39;00m\n",
      "File \u001b[0;32m/opt/conda/lib/python3.11/site-packages/nglview/widget.py:519\u001b[0m, in \u001b[0;36mNGLWidget._ipython_display_\u001b[0;34m(self, **kwargs)\u001b[0m\n\u001b[1;32m    518\u001b[0m \u001b[38;5;28;01mdef\u001b[39;00m \u001b[38;5;21m_ipython_display_\u001b[39m(\u001b[38;5;28mself\u001b[39m, \u001b[38;5;241m*\u001b[39m\u001b[38;5;241m*\u001b[39mkwargs):\n\u001b[0;32m--> 519\u001b[0m     \u001b[38;5;28msuper\u001b[39m()\u001b[38;5;241m.\u001b[39m_ipython_display_(\u001b[38;5;241m*\u001b[39m\u001b[38;5;241m*\u001b[39mkwargs)\n\u001b[1;32m    520\u001b[0m     \u001b[38;5;28;01mif\u001b[39;00m \u001b[38;5;28mself\u001b[39m\u001b[38;5;241m.\u001b[39m_init_gui:\n\u001b[1;32m    521\u001b[0m         \u001b[38;5;28;01mif\u001b[39;00m \u001b[38;5;28mself\u001b[39m\u001b[38;5;241m.\u001b[39m_gui \u001b[38;5;129;01mis\u001b[39;00m \u001b[38;5;28;01mNone\u001b[39;00m:\n",
      "\u001b[0;31mAttributeError\u001b[0m: 'super' object has no attribute '_ipython_display_'"
     ]
    },
    {
     "data": {
      "application/vnd.jupyter.widget-view+json": {
       "model_id": "93dfae1b5bd845538871b4328f2b619a",
       "version_major": 2,
       "version_minor": 0
      },
      "text/plain": [
       "NGLWidget()"
      ]
     },
     "execution_count": 6,
     "metadata": {},
     "output_type": "execute_result"
    }
   ],
   "source": [
    "view"
   ]
  },
  {
   "cell_type": "code",
   "execution_count": null,
   "id": "a29a664d",
   "metadata": {},
   "outputs": [],
   "source": [
    "# if issues try:\n",
    "# 1. \n",
    "# pip install ipywidgets==7.7.1 jupyterlab-widgets==1.1.1"
   ]
  },
  {
   "cell_type": "code",
   "execution_count": null,
   "id": "f7e14459",
   "metadata": {},
   "outputs": [],
   "source": [
    "\n"
   ]
  },
  {
   "cell_type": "code",
   "execution_count": null,
   "id": "3371c2e9",
   "metadata": {},
   "outputs": [],
   "source": []
  },
  {
   "cell_type": "markdown",
   "id": "df0ffc99",
   "metadata": {},
   "source": [
    "You can hover over different atoms and residues to see information about them. You can also scroll in or out and click and drag to move the molecule in the viewer. You can even drag the lower right hand corner to make the visualization window larger.\n",
    "\n",
    "## Changing Representations\n",
    "\n",
    "You will notice that `nglview` is representing the ligand and the protein in different ways. By default, `nglview` shows the protein in something called `cartoon` representation and the ligand in `ball+stick` representation. \n",
    "\n",
    "You can change or add representations to the molecule. For example, if we wanted to change our representation to all be `ball+stick`, we would first clear the default representation using the `clear_representations` function, then add a `ball+stick` representation."
   ]
  },
  {
   "cell_type": "code",
   "execution_count": null,
   "id": "01ef2471",
   "metadata": {},
   "outputs": [],
   "source": []
  },
  {
   "cell_type": "markdown",
   "id": "165d5062",
   "metadata": {},
   "source": [
    "Some available representations are:\n",
    "- `cartoon` - draws protein backbone structure (alpha helices and beta sheets) and nucleic acid backbone structure.\n",
    "- `base` - shows nucleic acid bases. Usually used with `cartoon` representation.\n",
    "- `ball+stick`- draws atoms as spheres connected by sticks (cylinders) for bonds.\n",
    "- `licorice` - similar to ball+stick, but does not have spheres on atoms.\n",
    "- `spacefill` - atoms are drawn as large spheres. No bonds are drawn between atoms.\n",
    "- `hyperball` - a derivative of `ball+stick` in which atoms are smoothly connected.\n",
    "\n",
    "You can see a full list on the [NGLViewer documentation](https://nglviewer.org/ngl/api/manual/molecular-representations.html).\n",
    "\n",
    "### Exercise\n",
    "Create a view using a representation of your choice."
   ]
  },
  {
   "cell_type": "raw",
   "id": "3053b317",
   "metadata": {},
   "source": []
  },
  {
   "cell_type": "markdown",
   "id": "74750dbe",
   "metadata": {},
   "source": [
    "## Selecting Parts of the Molecule\n",
    "\n",
    "NGLView allows you to select different parts of your molecule and add representations to those parts only. For example, we can select to add a representation to only the ligands by add `'ligand'` after our representation keyword in the `add_representation` function.\n",
    "\n",
    "There are a lot of keywords you can use (a complete list is at the end of this notebook)."
   ]
  },
  {
   "cell_type": "code",
   "execution_count": null,
   "id": "fe2b9e89",
   "metadata": {},
   "outputs": [],
   "source": [
    "view = nv.show_file(filepath)\n",
    "view.clear_representations()\n",
    "# Add code here to show ligand\n"
   ]
  },
  {
   "cell_type": "code",
   "execution_count": null,
   "id": "b1f119ee",
   "metadata": {
    "scrolled": true
   },
   "outputs": [],
   "source": [
    "view"
   ]
  },
  {
   "cell_type": "markdown",
   "id": "ab3abbdc",
   "metadata": {},
   "source": [
    "You can also specify the color and the opacity of the representation and center the view on a selection."
   ]
  },
  {
   "cell_type": "code",
   "execution_count": null,
   "id": "952c2910",
   "metadata": {},
   "outputs": [],
   "source": [
    "view = nv.show_file(filepath)\n"
   ]
  },
  {
   "cell_type": "code",
   "execution_count": null,
   "id": "39afb3e7",
   "metadata": {},
   "outputs": [],
   "source": []
  },
  {
   "cell_type": "markdown",
   "id": "f6632e97",
   "metadata": {},
   "source": [
    "### Check your understanding\n",
    "\n",
    "Add another representation to our view - select the protein make it the color blue using cartoon representation with 0.5 opacity."
   ]
  },
  {
   "cell_type": "code",
   "execution_count": null,
   "id": "de0731bd",
   "metadata": {},
   "outputs": [],
   "source": []
  },
  {
   "cell_type": "markdown",
   "id": "00eb623c",
   "metadata": {},
   "source": [
    "## Adding Representations of Contacts"
   ]
  },
  {
   "cell_type": "markdown",
   "id": "52d41dae",
   "metadata": {},
   "source": [
    "We can also add a representation of all the atom contacts in the molecule. You can hover over the contacts to get more information about each. "
   ]
  },
  {
   "cell_type": "code",
   "execution_count": null,
   "id": "6978aeb1",
   "metadata": {},
   "outputs": [],
   "source": [
    "view = nv.show_file(filepath)\n"
   ]
  },
  {
   "cell_type": "markdown",
   "id": "d4f1b4d5",
   "metadata": {},
   "source": [
    "## Saving Images\n",
    "\n"
   ]
  },
  {
   "cell_type": "markdown",
   "id": "47533bc4",
   "metadata": {},
   "source": [
    "Once you have your representation looking the way you like, you can save an image to your computer for use in a presenation. To embed a static image in the Jupyter notebook, use the `render_image` function. To download the image, use the `download_image` function. An image will be put in your downloads folder."
   ]
  },
  {
   "cell_type": "code",
   "execution_count": null,
   "id": "c182d7c1",
   "metadata": {},
   "outputs": [],
   "source": []
  },
  {
   "cell_type": "code",
   "execution_count": null,
   "id": "b3b69ac3",
   "metadata": {},
   "outputs": [],
   "source": []
  },
  {
   "cell_type": "markdown",
   "id": "51c17d51",
   "metadata": {},
   "source": [
    "You can change the filename (default is `screenshot.png`) by adding the argument `filename`. You can increase the image quality by adding an argument called `factor`. The default value for this is `4` and setting a higher number will result in an larger image. You can make the white parts of your image transparent with the keyword `transparent=False`."
   ]
  },
  {
   "cell_type": "code",
   "execution_count": null,
   "id": "9c008936",
   "metadata": {},
   "outputs": [],
   "source": []
  },
  {
   "cell_type": "markdown",
   "id": "a927e9d2",
   "metadata": {},
   "source": [
    "## Hands On Exercise"
   ]
  },
  {
   "cell_type": "markdown",
   "id": "ff08f216",
   "metadata": {},
   "source": [
    "There are a large number of keywords you can use for selecting parts of your pdb file:\n",
    "- all, *\n",
    "- sidechain\n",
    "- sidechainAttached (not backbone or .CA or (PRO and .N))\n",
    "- backbone\n",
    "- protein\n",
    "- nucleic\n",
    "- rna\n",
    "- dna\n",
    "- hetero\n",
    "- ligand (( not polymer or hetero ) and not ( water or ion ))\n",
    "- ion\n",
    "- saccharide/sugar\n",
    "- polymer\n",
    "- water\n",
    "- hydrogen\n",
    "- helix\n",
    "- sheet\n",
    "- turn (not helix and not sheet)\n",
    "- small (Gly or Ala or Ser)\n",
    "- nucleophilic (Ser or Thr or Cys)\n",
    "- hydrophobic (Ala or Val or Leu or Ile or Met or Pro or Phe or Trp)\n",
    "- aromatic (Phe or Tyr or Trp or His)\n",
    "- amid (Asn or Gln)\n",
    "- acidic (Asp or Glu)\n",
    "- basic (His or Lys or Arg)\n",
    "- charged (Asp or Glu or His or Lys or Arg)\n",
    "- polar (Asp or Cys or Gly or Glu or His or Lys or Arg or Asn or Gln or Ser or Thr or Tyr)\n",
    "- nonpolar (Ala or Ile or Leu or Met or Phe or Pro or Val or Trp)\n",
    "- cyclic (His or Phe or Pro or Trp or Tyr)\n",
    "- aliphatic (Ala or Gly or Ile or Leu or Val)\n",
    "- bonded (all atoms with at least one bond)\n",
    "- ring (all atoms within rings)\n",
    "\n",
    "Try visualizing some other proteins from your pdb file. See if you can figure out how to\n",
    "1. Color your protein by secondary structure.\n",
    "2. Change the representation of water molecules.\n",
    "3. Change the representation of atoms in rings."
   ]
  },
  {
   "cell_type": "code",
   "execution_count": null,
   "id": "00e3ded6",
   "metadata": {},
   "outputs": [],
   "source": [
    "\n"
   ]
  },
  {
   "cell_type": "code",
   "execution_count": null,
   "id": "028ef15b",
   "metadata": {},
   "outputs": [],
   "source": []
  },
  {
   "cell_type": "code",
   "execution_count": null,
   "id": "8fb5d6bd",
   "metadata": {},
   "outputs": [],
   "source": []
  },
  {
   "cell_type": "code",
   "execution_count": null,
   "id": "ce042199",
   "metadata": {},
   "outputs": [],
   "source": []
  }
 ],
 "metadata": {
  "kernelspec": {
   "display_name": "Python 3 (ipykernel)",
   "language": "python",
   "name": "python3"
  },
  "language_info": {
   "codemirror_mode": {
    "name": "ipython",
    "version": 3
   },
   "file_extension": ".py",
   "mimetype": "text/x-python",
   "name": "python",
   "nbconvert_exporter": "python",
   "pygments_lexer": "ipython3",
   "version": "3.11.9"
  }
 },
 "nbformat": 4,
 "nbformat_minor": 5
}
