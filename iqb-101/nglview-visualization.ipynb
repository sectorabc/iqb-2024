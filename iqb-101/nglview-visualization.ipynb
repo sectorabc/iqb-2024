{
 "cells": [
  {
   "cell_type": "markdown",
   "id": "e82d2f49",
   "metadata": {},
   "source": [
    "# Protein Visualization\n",
    "\n",
    "You can use Python and the Jupyter notebook to interactively visualize pdb files.\n",
    "\n",
    "Questions:\n",
    "- How can I use Python and the Jupyter notebook to visualize protein files?\n",
    "\n",
    "Objectives\n",
    "- Use the Python library `nglview` to visualize pdb files. \n",
    "- Learn about different molecular representations.\n",
    "- Learn how to change molecule representation and display color.\n",
    "- See an example of active site visualization using `nglview` and the Python library `ptraj`\n",
    "\n",
    "## NGLView\n",
    "In this notebook, we will use the Python library `nglview` to visualize data from pdb files. To use `nglview`, we first have to import it. We usually will shorten `nglview` to `nv`.\n",
    "\n",
    "To visualize data from a file, we will use the `show_file` function. You put the file path of the pdb you want to view in this function. We will set this equal to a variable called `view`."
   ]
  },
  {
   "cell_type": "code",
   "execution_count": 7,
   "id": "cab4b6ae",
   "metadata": {},
   "outputs": [],
   "source": [
    "import os\n",
    "import nglview as nv"
   ]
  },
  {
   "cell_type": "code",
   "execution_count": 8,
   "id": "55910a0a",
   "metadata": {},
   "outputs": [
    {
     "name": "stdout",
     "output_type": "stream",
     "text": [
      "PDB_files/3fgu.pdb\n"
     ]
    },
    {
     "ename": "FileNotFoundError",
     "evalue": "[Errno 2] No such file or directory: 'PDB_files/3fgu.pdb'",
     "output_type": "error",
     "traceback": [
      "\u001b[0;31m---------------------------------------------------------------------------\u001b[0m",
      "\u001b[0;31mFileNotFoundError\u001b[0m                         Traceback (most recent call last)",
      "\u001b[0;32m<ipython-input-8-8f4f20f5050b>\u001b[0m in \u001b[0;36m<module>\u001b[0;34m\u001b[0m\n\u001b[1;32m      1\u001b[0m \u001b[0mfilepath\u001b[0m \u001b[0;34m=\u001b[0m \u001b[0mos\u001b[0m\u001b[0;34m.\u001b[0m\u001b[0mpath\u001b[0m\u001b[0;34m.\u001b[0m\u001b[0mjoin\u001b[0m\u001b[0;34m(\u001b[0m\u001b[0;34m'PDB_files'\u001b[0m\u001b[0;34m,\u001b[0m \u001b[0;34m'3fgu.pdb'\u001b[0m\u001b[0;34m)\u001b[0m\u001b[0;34m\u001b[0m\u001b[0;34m\u001b[0m\u001b[0m\n\u001b[1;32m      2\u001b[0m \u001b[0mprint\u001b[0m\u001b[0;34m(\u001b[0m\u001b[0mfilepath\u001b[0m\u001b[0;34m)\u001b[0m\u001b[0;34m\u001b[0m\u001b[0;34m\u001b[0m\u001b[0m\n\u001b[0;32m----> 3\u001b[0;31m \u001b[0;32mwith\u001b[0m \u001b[0mopen\u001b[0m\u001b[0;34m(\u001b[0m\u001b[0mfilepath\u001b[0m\u001b[0;34m,\u001b[0m\u001b[0;34m\"r\"\u001b[0m\u001b[0;34m)\u001b[0m \u001b[0;32mas\u001b[0m \u001b[0moutfile\u001b[0m\u001b[0;34m:\u001b[0m\u001b[0;34m\u001b[0m\u001b[0;34m\u001b[0m\u001b[0m\n\u001b[0m\u001b[1;32m      4\u001b[0m     \u001b[0mdata\u001b[0m \u001b[0;34m=\u001b[0m \u001b[0moutfile\u001b[0m\u001b[0;34m.\u001b[0m\u001b[0mreadlines\u001b[0m\u001b[0;34m(\u001b[0m\u001b[0;34m)\u001b[0m\u001b[0;34m\u001b[0m\u001b[0;34m\u001b[0m\u001b[0m\n\u001b[1;32m      5\u001b[0m \u001b[0;34m\u001b[0m\u001b[0m\n",
      "\u001b[0;31mFileNotFoundError\u001b[0m: [Errno 2] No such file or directory: 'PDB_files/3fgu.pdb'"
     ]
    }
   ],
   "source": [
    "filepath = os.path.join('PDB_files', '3fgu.pdb')\n",
    "print(filepath)\n",
    "with open(filepath,\"r\") as outfile:\n",
    "    data = outfile.readlines()\n",
    "\n",
    "print(data)\n",
    "# view = nv.show_file(filepath)"
   ]
  },
  {
   "cell_type": "markdown",
   "id": "9a82c0e7",
   "metadata": {},
   "source": [
    "To actually see our pdb representation, we just type the variable `view` as the last thing in a notebook cell."
   ]
  },
  {
   "cell_type": "code",
   "execution_count": 3,
   "id": "ebcce30e",
   "metadata": {},
   "outputs": [
    {
     "data": {
      "application/vnd.jupyter.widget-view+json": {
       "model_id": "5b503fc550ea47abb320f947a0ec1fc0",
       "version_major": 2,
       "version_minor": 0
      },
      "text/plain": [
       "NGLWidget()"
      ]
     },
     "metadata": {},
     "output_type": "display_data"
    }
   ],
   "source": [
    "view"
   ]
  },
  {
   "cell_type": "markdown",
   "id": "df0ffc99",
   "metadata": {},
   "source": [
    "You can hover over different atoms and residues to see information about them. You can also scroll in or out and click and drag to move the molecule in the viewer. \n",
    "\n",
    "## Changing Representations\n",
    "\n",
    "You will notice that `nglview` is representing the ligand and the protein in different ways. By default, `nglview` shows the protein in something called `cartoon` representation and the ligand in `ball+stick` representation. \n",
    "\n",
    "You can change or add representations to the molecule. For example, if we wanted to change our representation to all be `ball+stick`, we would first clear the default representation using the `clear_representations` function, then add a `ball+stick` representation."
   ]
  },
  {
   "cell_type": "code",
   "execution_count": 4,
   "id": "01ef2471",
   "metadata": {},
   "outputs": [],
   "source": [
    "view = nv.show_file(filepath)\n",
    "view.clear_representations()\n",
    "view.add_representation('ball+stick')"
   ]
  },
  {
   "cell_type": "code",
   "execution_count": 5,
   "id": "3dcbbf54",
   "metadata": {},
   "outputs": [
    {
     "data": {
      "application/vnd.jupyter.widget-view+json": {
       "model_id": "a934692effb9440b8ac33f4b9132ffb5",
       "version_major": 2,
       "version_minor": 0
      },
      "text/plain": [
       "NGLWidget()"
      ]
     },
     "metadata": {},
     "output_type": "display_data"
    }
   ],
   "source": [
    "view"
   ]
  },
  {
   "cell_type": "markdown",
   "id": "165d5062",
   "metadata": {},
   "source": [
    "Available representations are:\n",
    "- `cartoon` - draws protein backbone structure (alpha helices and beta sheets) and nucleic acid backbone structure.\n",
    "- `base` - shows nucleic acid bases. Usually used with `cartoon` representation.\n",
    "- `ball+stick`- draws atoms as spheres connected by sticks (cylinders) for bonds.\n",
    "- `licorice` - similar to ball+stick, but does not have spheres on atoms.\n",
    "- `spacefill` - atoms are drawn as large spheres. No bonds are drawn between atoms.\n",
    "- `hyperball` - a derivative of `ball+stick` in which atoms are smoothly connected.\n",
    "\n",
    "### Exercise\n",
    "Create a view using a different representation."
   ]
  },
  {
   "cell_type": "markdown",
   "id": "74750dbe",
   "metadata": {},
   "source": [
    "## Selecting Parts of the Molecule\n",
    "\n",
    "NGLView allows you to select different parts of your molecule and add representations to those parts only. For example, we can select to add a representation to only the ligands by add `'ligand'` after our representation keyword in the `add_representation` function."
   ]
  },
  {
   "cell_type": "code",
   "execution_count": 6,
   "id": "fe2b9e89",
   "metadata": {},
   "outputs": [],
   "source": [
    "view = nv.show_file(filepath)\n",
    "view.clear_representations()\n",
    "view.add_representation('hyperball', 'ligand')"
   ]
  },
  {
   "cell_type": "code",
   "execution_count": 7,
   "id": "b1f119ee",
   "metadata": {},
   "outputs": [
    {
     "data": {
      "application/vnd.jupyter.widget-view+json": {
       "model_id": "b27570cbbba64baab639dba7ed413257",
       "version_major": 2,
       "version_minor": 0
      },
      "text/plain": [
       "NGLWidget()"
      ]
     },
     "metadata": {},
     "output_type": "display_data"
    }
   ],
   "source": [
    "view"
   ]
  },
  {
   "cell_type": "markdown",
   "id": "ab3abbdc",
   "metadata": {},
   "source": [
    "You can also specify the color and the opacity of the representation and center the view on a selection."
   ]
  },
  {
   "cell_type": "code",
   "execution_count": 8,
   "id": "952c2910",
   "metadata": {},
   "outputs": [],
   "source": [
    "view = nv.show_file(filepath)\n",
    "view.clear_representations()\n",
    "view.add_representation('ball+stick', 'ligand', color=\"pink\", opacity=0.75)"
   ]
  },
  {
   "cell_type": "code",
   "execution_count": 9,
   "id": "39afb3e7",
   "metadata": {},
   "outputs": [
    {
     "data": {
      "application/vnd.jupyter.widget-view+json": {
       "model_id": "1c311aa8c7a84dd58bcd7f47590ebc09",
       "version_major": 2,
       "version_minor": 0
      },
      "text/plain": [
       "NGLWidget()"
      ]
     },
     "metadata": {},
     "output_type": "display_data"
    }
   ],
   "source": [
    "view.center('ligand')\n",
    "view"
   ]
  },
  {
   "cell_type": "markdown",
   "id": "f6632e97",
   "metadata": {},
   "source": [
    "### Exercise\n",
    "\n",
    "Add a representation to our view - blue cartoon protein with 0.5 opacity."
   ]
  },
  {
   "cell_type": "code",
   "execution_count": 10,
   "id": "de0731bd",
   "metadata": {},
   "outputs": [
    {
     "data": {
      "application/vnd.jupyter.widget-view+json": {
       "model_id": "34bca02d64584fc0af0b7dd654147a28",
       "version_major": 2,
       "version_minor": 0
      },
      "text/plain": [
       "NGLWidget()"
      ]
     },
     "metadata": {},
     "output_type": "display_data"
    }
   ],
   "source": [
    "## Answer, can be removed.\n",
    "view = nv.show_file(filepath)\n",
    "view.clear_representations()\n",
    "view.add_representation('ball+stick', 'ligand', color=\"pink\", opacity=1.0)\n",
    "view.center('ligand')\n",
    "view.add_representation('cartoon', 'protein', color=\"blue\", opacity=0.5)\n",
    "view"
   ]
  },
  {
   "cell_type": "markdown",
   "id": "52d41dae",
   "metadata": {},
   "source": [
    "We can also add a representation of all the atom contacts in the molecule. You can hover over the contacts to get more information about each. "
   ]
  },
  {
   "cell_type": "code",
   "execution_count": 11,
   "id": "6978aeb1",
   "metadata": {},
   "outputs": [
    {
     "data": {
      "application/vnd.jupyter.widget-view+json": {
       "model_id": "34aca020162e45d6a12e510eb6051de8",
       "version_major": 2,
       "version_minor": 0
      },
      "text/plain": [
       "NGLWidget()"
      ]
     },
     "metadata": {},
     "output_type": "display_data"
    }
   ],
   "source": [
    "view = nv.show_file(filepath)\n",
    "view.clear_representations()\n",
    "view.add_representation('hyperball', 'ligand', opacity=1.0)\n",
    "view.center('ligand')\n",
    "view.add_representation('cartoon', 'protein', color=\"gray\", opacity=0.5)\n",
    "view.add_representation('contact')\n",
    "view"
   ]
  },
  {
   "cell_type": "markdown",
   "id": "d4f1b4d5",
   "metadata": {},
   "source": [
    "## Saving Images\n",
    "\n"
   ]
  },
  {
   "cell_type": "markdown",
   "id": "47533bc4",
   "metadata": {},
   "source": [
    "Once you have your representation looking the way you like, you can save an image to your computer for use in a presenation. To embed a static image in the Jupyter notebook, use the `render_image` function. To download the image, use the `download_image` function. An image will be put in your downloads folder."
   ]
  },
  {
   "cell_type": "code",
   "execution_count": 12,
   "id": "c182d7c1",
   "metadata": {},
   "outputs": [
    {
     "data": {
      "application/vnd.jupyter.widget-view+json": {
       "model_id": "ed2c13ca9c8b48778ff04e2bbd362d59",
       "version_major": 2,
       "version_minor": 0
      },
      "text/plain": [
       "Image(value=b'', width='99%')"
      ]
     },
     "metadata": {},
     "output_type": "display_data"
    }
   ],
   "source": [
    "view.render_image()"
   ]
  },
  {
   "cell_type": "code",
   "execution_count": 13,
   "id": "b3b69ac3",
   "metadata": {},
   "outputs": [],
   "source": [
    "view.download_image()"
   ]
  },
  {
   "cell_type": "markdown",
   "id": "51c17d51",
   "metadata": {},
   "source": [
    "You can change the filename (default is `screenshot.png`) by adding the argument `filename`. You can increase the image quality by adding an argument called `factor`. The default value for this is `4` and setting a higher number will result in an larger image. You can make the white parts of your image transparent with the keyword `transparent=False`."
   ]
  },
  {
   "cell_type": "code",
   "execution_count": 14,
   "id": "9c008936",
   "metadata": {},
   "outputs": [],
   "source": [
    "view.download_image(filename=\"3fgu.png\", factor=6, transparent=True)"
   ]
  },
  {
   "cell_type": "markdown",
   "id": "a927e9d2",
   "metadata": {},
   "source": [
    "## Hands On Exercise"
   ]
  },
  {
   "cell_type": "code",
   "execution_count": null,
   "id": "00e3ded6",
   "metadata": {},
   "outputs": [],
   "source": []
  }
 ],
 "metadata": {
  "kernelspec": {
   "display_name": "Python 3",
   "language": "python",
   "name": "python3"
  },
  "language_info": {
   "codemirror_mode": {
    "name": "ipython",
    "version": 3
   },
   "file_extension": ".py",
   "mimetype": "text/x-python",
   "name": "python",
   "nbconvert_exporter": "python",
   "pygments_lexer": "ipython3",
   "version": "3.8.8"
  }
 },
 "nbformat": 4,
 "nbformat_minor": 5
}
