{
 "cells": [
  {
   "cell_type": "markdown",
   "metadata": {},
   "source": [
    "Processing Multiple Files and Writing Files\n",
    "=================================="
   ]
  },
  {
   "cell_type": "markdown",
   "metadata": {},
   "source": [
    "<div class=\"overview-this-is-a-title overview\">\n",
    "<p class=\"overview-title\">Overview</p>\n",
    "<p>Questions</p>\n",
    "    <ul>\n",
    "        <li> How do I analyze multiple files at once?\n",
    "    </ul>\n",
    "<p>Objectives:</p>\n",
    "    <ul>\n",
    "        <li> Import a python library.\n",
    "        <li> Use python library funtions.\n",
    "        <li> Process multiple files using a `for` loop.\n",
    "        <li> Print output to a new text file.\n",
    "    </ul>\n",
    "<p>Key Points:</p>\n",
    "    <ul>\n",
    "        <li> Use the glob function in the python library `glob` to find all the files you want to analyze.\n",
    "        <li> You can have multiple `for` loops nested inside each other.\n",
    "        <li> Python can only print strings to files.\n",
    "        <li> You must close files so python will actually write them. You can do this either manually or automatically.\n",
    "    </ul>    \n",
    "</div>"
   ]
  },
  {
   "cell_type": "markdown",
   "metadata": {},
   "source": [
    "## Processing multiple files\n",
    "\n"
   ]
  },
  {
   "cell_type": "markdown",
   "metadata": {},
   "source": [
    "### Importing libraries\n",
    "\n",
    "We are going to import two libraries.  One is the `os` library which controls functions related to the operating system of your computer. We used this library in the last lesson to handle filepaths.  The other is the `glob` library which contains functions to help us analyze multiple files.  If we are going to analyze multiple files, we first need to specify where those files are located.\n",
    "\n",
    "```python\n",
    "import library_name\n",
    "output = library_name.function_name(input)\n",
    "```"
   ]
  },
  {
   "cell_type": "markdown",
   "metadata": {},
   "source": [
    "**Check your understanding** \n",
    "\n",
    "How would you use the `os.path` module to point to the directory where your PDB files are located?"
   ]
  },
  {
   "cell_type": "code",
   "execution_count": 1,
   "metadata": {},
   "outputs": [
    {
     "data": {
      "text/plain": [
       "'/workspaces/iqb-2024'"
      ]
     },
     "execution_count": 1,
     "metadata": {},
     "output_type": "execute_result"
    }
   ],
   "source": [
    "import os\n",
    "os.getcwd()\n"
   ]
  },
  {
   "cell_type": "code",
   "execution_count": 2,
   "metadata": {},
   "outputs": [
    {
     "data": {
      "text/plain": [
       "['environment.yml',\n",
       " 'extras',\n",
       " '.gitignore',\n",
       " 'LICENSE',\n",
       " 'molecule_manipulation.ipynb',\n",
       " 'iqb-101',\n",
       " 'docking_single_ligand.ipynb',\n",
       " '.git',\n",
       " '.github',\n",
       " '.virtual_documents',\n",
       " 'EC_class_ligands_search.ipynb',\n",
       " '.devcontainer',\n",
       " 'README.md',\n",
       " 'docking_prepration.ipynb',\n",
       " 'images',\n",
       " '.ipynb_checkpoints',\n",
       " 'filled_notebooks',\n",
       " 'ligands',\n",
       " 'protein_structures',\n",
       " 'ligands_to_dock']"
      ]
     },
     "execution_count": 2,
     "metadata": {},
     "output_type": "execute_result"
    }
   ],
   "source": [
    "os.listdir()\n"
   ]
  },
  {
   "cell_type": "code",
   "execution_count": 3,
   "metadata": {},
   "outputs": [
    {
     "name": "stdout",
     "output_type": "stream",
     "text": [
      "/workspaces/iqb-2024/iqb-101\n"
     ]
    }
   ],
   "source": [
    "cd 'iqb-101/'"
   ]
  },
  {
   "cell_type": "code",
   "execution_count": 4,
   "metadata": {},
   "outputs": [
    {
     "name": "stdout",
     "output_type": "stream",
     "text": [
      "PDB_files\n"
     ]
    }
   ],
   "source": [
    "folderpath = os.path.join(\"PDB_files\")\n",
    "print(folderpath)"
   ]
  },
  {
   "cell_type": "code",
   "execution_count": 5,
   "metadata": {},
   "outputs": [
    {
     "name": "stdout",
     "output_type": "stream",
     "text": [
      "PDB_files/*.pdb\n"
     ]
    }
   ],
   "source": [
    "file_location = os.path.join(\"PDB_files\",\"*.pdb\")\n",
    "print(file_location)"
   ]
  },
  {
   "cell_type": "code",
   "execution_count": 7,
   "metadata": {},
   "outputs": [
    {
     "name": "stdout",
     "output_type": "stream",
     "text": [
      "['PDB_files/5eu9.pdb', 'PDB_files/3iva.pdb', 'PDB_files/3fgu.pdb', 'PDB_files/3vnd.pdb', 'PDB_files/6zt7.pdb', 'PDB_files/1ddo.pdb', 'PDB_files/4eyr.pdb', 'PDB_files/5veu.pdb', 'PDB_files/2pkr.pdb', 'PDB_files/7tim.pdb']\n"
     ]
    }
   ],
   "source": [
    "import glob\n",
    "filenames = glob.glob(file_location)\n",
    "print(filenames)\n"
   ]
  },
  {
   "cell_type": "code",
   "execution_count": 8,
   "metadata": {},
   "outputs": [
    {
     "name": "stdout",
     "output_type": "stream",
     "text": [
      "<class 'list'>\n"
     ]
    }
   ],
   "source": [
    "print(type(filenames))"
   ]
  },
  {
   "cell_type": "markdown",
   "metadata": {},
   "source": [
    "### Reading multiple files with nested for loops"
   ]
  },
  {
   "cell_type": "code",
   "execution_count": 11,
   "metadata": {},
   "outputs": [
    {
     "name": "stdout",
     "output_type": "stream",
     "text": [
      "2.05\n",
      "2.7\n",
      "2.15\n",
      "2.6\n",
      "1.85\n",
      "3.1\n",
      "1.8\n",
      "2.91\n",
      "2.4\n",
      "1.9\n"
     ]
    }
   ],
   "source": [
    "# go through every file in the list \n",
    "# 'r' reads the element f\n",
    "for f in filenames :  \n",
    "    with open(f, 'r') as outfile :\n",
    "        data = outfile.readlines()\n",
    "\n",
    "    for line in data:\n",
    "        if 'RESOLUTION.' in line:\n",
    "            res_line = line\n",
    "            # print(f, res_line) # print filename and their line\n",
    "            words = res_line.split() \n",
    "            resolution = float(words[3]) # element 3 of the list is resol, convert to number by float\n",
    "            print(resolution)"
   ]
  },
  {
   "cell_type": "markdown",
   "metadata": {},
   "source": [
    "Now, we want to get the PDB_ID with the resolution. We can use the path and filename for this."
   ]
  },
  {
   "cell_type": "code",
   "execution_count": 16,
   "metadata": {},
   "outputs": [
    {
     "name": "stdout",
     "output_type": "stream",
     "text": [
      "PDB_files/5eu9.pdb\n",
      "5eu9.pdb\n"
     ]
    }
   ],
   "source": [
    "first_file = filenames[0]\n",
    "print(first_file)\n",
    "\n",
    "file_name = os.path.basename(first_file)\n",
    "print(file_name)"
   ]
  },
  {
   "cell_type": "markdown",
   "metadata": {},
   "source": [
    "**Check your understanding** \n",
    "\n",
    "How would you extract the PDB ID from the example above?"
   ]
  },
  {
   "cell_type": "markdown",
   "metadata": {},
   "source": [
    "file_name.split(\".\")   # splits the list defaukt delimiter is spaces, but here we split at the period."
   ]
  },
  {
   "cell_type": "code",
   "execution_count": 21,
   "metadata": {},
   "outputs": [
    {
     "name": "stdout",
     "output_type": "stream",
     "text": [
      "5eu9 :  2.05  Angstroms\n",
      "3iva :  2.7  Angstroms\n",
      "3fgu :  2.15  Angstroms\n",
      "3vnd :  2.6  Angstroms\n",
      "6zt7 :  1.85  Angstroms\n",
      "1ddo :  3.1  Angstroms\n",
      "4eyr :  1.8  Angstroms\n",
      "5veu :  2.91  Angstroms\n",
      "2pkr :  2.4  Angstroms\n",
      "7tim :  1.9  Angstroms\n"
     ]
    }
   ],
   "source": [
    "# print(filenames)\n",
    "\n",
    "for f in filenames:\n",
    "    # Get the PDB ID\n",
    "    file_base = os.path.basename(f)\n",
    "    split_file_base = file_base.split(\".\")\n",
    "    PDB_ID = split_file_base[0]\n",
    "    #print(PDB_ID)\n",
    "\n",
    "    # Read the data\n",
    "    with open(f, 'r') as outfile:\n",
    "        data = outfile.readlines()\n",
    "    \n",
    "    for line in data:\n",
    "        if 'RESOLUTION.' in line:\n",
    "            res_line = line\n",
    "            words = res_line.split()\n",
    "            resolution = float(words[3])\n",
    "            print(PDB_ID, \": \", resolution, \" Angstroms\")\n"
   ]
  },
  {
   "cell_type": "markdown",
   "metadata": {},
   "source": [
    "## Printing to a File\n"
   ]
  },
  {
   "cell_type": "markdown",
   "metadata": {},
   "source": [
    "\n",
    "```python\n",
    "with open('file_name.txt', 'w') as filehandle:\n",
    "    take some actions\n",
    "    use filehandle.write('content') to add content to the file\n",
    "```"
   ]
  },
  {
   "cell_type": "code",
   "execution_count": 54,
   "metadata": {},
   "outputs": [
    {
     "name": "stdout",
     "output_type": "stream",
     "text": [
      "['5eu9', '2.05', 'Angstroms']\n",
      "['3iva', '2.7', 'Angstroms']\n",
      "['3fgu', '2.15', 'Angstroms']\n",
      "['3vnd', '2.6', 'Angstroms']\n",
      "['6zt7', '1.85', 'Angstroms']\n",
      "['1ddo', '3.1', 'Angstroms']\n",
      "['4eyr', '1.8', 'Angstroms']\n",
      "['5veu', '2.91', 'Angstroms']\n",
      "['2pkr', '2.4', 'Angstroms']\n",
      "['7tim', '1.9', 'Angstroms']\n"
     ]
    }
   ],
   "source": [
    "# '+' tells Python to create the file if it does not already exist\n",
    "with open('resolutions.txt', 'w+') as datafile:\n",
    "    for f in filenames:\n",
    "\n",
    "        # Get PDB ID\n",
    "        file_base = os.path.basename(f)\n",
    "        split_file_base = file_base.split(\".\")\n",
    "        PDB_ID = split_file_base[0]\n",
    "        #print(PDB_ID)\n",
    "\n",
    "        # Read the data\n",
    "        with open(f, 'r') as outfile:\n",
    "            data = outfile.readlines()\n",
    "        \n",
    "        for line in data:\n",
    "            if 'RESOLUTION.' in line:\n",
    "                res_line = line\n",
    "                words = res_line.split()\n",
    "                resolution = float(words[3])\n",
    "                datafile.write(F'{PDB_ID} \\t {resolution} \\t Angstroms \\n')\n",
    "                # print(PDB_ID, \": \", resolution, \" Angstroms\")\n",
    "\n",
    "os.listdir()\n",
    "\n",
    "with open('resolutions.txt', mode='r', encoding='utf-8') as f :\n",
    "    outy = f.readlines()\n",
    "    for line in outy:\n",
    "        lines = line\n",
    "        linesN = lines.split()\n",
    "        print(linesN)\n",
    "f.close()\n"
   ]
  },
  {
   "cell_type": "code",
   "execution_count": null,
   "metadata": {},
   "outputs": [],
   "source": []
  },
  {
   "cell_type": "markdown",
   "metadata": {},
   "source": [
    "## A note about F string formatting\n",
    "The F'string' notation that you can use with the print or the write command lets you format strings in many ways.  You could include other words or whole sentences.  For example, we could change the file writing line to\n",
    "\n",
    "`datafile.write(F'For the PDB ID {molecule_name} the resolution is {resolution} in Angstroms.')`\n",
    "\n",
    "where anything in the braces is a python variable and it will print the value of that variable. "
   ]
  },
  {
   "cell_type": "markdown",
   "metadata": {},
   "source": [
    "**Project**\n",
    "\n",
    "You can complete this project to test your skills. It should be completed when this material is used in a long workshop, or if you are working through this material independently.\n",
    "    \n",
    "The goal of this exercise is to extract the Enzyme Commission Class for a series of enzyme structures in PDB files and write them to a text file. The files are located in the `PDB_files` folder. If you open any of these files in a text editor and search for the term \"EC:\" you will find a listing that looks like this: \n",
    "    \n",
    "    COMPND   6 EC: 1.2.1.13;\n",
    "    \n",
    "You are probably familiar with these numbers, but just in case - the Enzyme Commission class tells you the function of an enzyme in a hierarchical format. You can learn more at the [BRENDA EC Explorer](https://www.brenda-enzymes.org/ecexplorer.php?browser=1&f[nodes]=21&f[action]=close&f[change]=21#21).  \n",
    "  \n",
    "**Your assignment** is to parse the files in the `PDB_files` folder and write a new file named `EC_class.txt` that contains the PDB ID and EC class for each of these enzymes. When you open the file in your text editor, it should look like this:\n",
    "\n",
    "7tim \t  5.3.1.1  \n",
    "6zt7 \t  3.2.1.55  \n",
    "5eu9 \t  4.2.1.11  \n",
    "3iva \t  2.1.1.13  \n",
    "2pkr \t  1.2.1.13  \n",
    "3vnd \t  4.2.1.20  \n",
    "5veu \t  1.14.14.1\n",
    "    \n",
    "*Hint*\n",
    "\n",
    "It helps when you are writing code to break up what you have to do into steps. Overall, we want to get information from the file. How do we do that?\n",
    " \n",
    "If you think about the steps you will need to do this assignment you might come up with a list that is like this: \n",
    "\n",
    "1. Open the file for reading.\n",
    "1. Read the data in the file.\n",
    "1. Loop through the lines in the file.\n",
    "    1. Read the files to gain access to the information we want.\n",
    "    1. Extract the desired information and write it to a file.\n",
    "\n",
    "It can be helpful when you code to write out these steps and work on it in pieces. Try to write the code using these steps. Note that as you write the code, you may come up with other steps!  \n",
    "  \n",
    "First, think about what you have to do for step 1, and write the code for that. Next, think about how you would do step 2 and write the code for that. You can troubleshoot each step using print statments. \n",
    "  \n",
    "The steps build on each other, so you can work on getting each piece written before moving on to the next.  "
   ]
  },
  {
   "cell_type": "code",
   "execution_count": null,
   "metadata": {},
   "outputs": [],
   "source": []
  }
 ],
 "metadata": {
  "kernelspec": {
   "display_name": "Python 3 (ipykernel)",
   "language": "python",
   "name": "python3"
  },
  "language_info": {
   "codemirror_mode": {
    "name": "ipython",
    "version": 3
   },
   "file_extension": ".py",
   "mimetype": "text/x-python",
   "name": "python",
   "nbconvert_exporter": "python",
   "pygments_lexer": "ipython3",
   "version": "3.11.9"
  }
 },
 "nbformat": 4,
 "nbformat_minor": 4
}
