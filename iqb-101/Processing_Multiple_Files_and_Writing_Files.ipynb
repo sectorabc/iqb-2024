{
 "cells": [
  {
   "cell_type": "markdown",
   "metadata": {},
   "source": [
    "Processing Multiple Files and Writing Files\n",
    "=================================="
   ]
  },
  {
   "cell_type": "markdown",
   "metadata": {},
   "source": [
    "<div class=\"overview-this-is-a-title overview\">\n",
    "<p class=\"overview-title\">Overview</p>\n",
    "<p>Questions</p>\n",
    "    <ul>\n",
    "        <li> How do I analyze multiple files at once?\n",
    "    </ul>\n",
    "<p>Objectives:</p>\n",
    "    <ul>\n",
    "        <li> Import a python library.\n",
    "        <li> Use python library funtions.\n",
    "        <li> Process multiple files using a `for` loop.\n",
    "        <li> Print output to a new text file.\n",
    "    </ul>\n",
    "<p>Key Points:</p>\n",
    "    <ul>\n",
    "        <li> Use the glob function in the python library `glob` to find all the files you want to analyze.\n",
    "        <li> You can have multiple `for` loops nested inside each other.\n",
    "        <li> Python can only print strings to files.\n",
    "        <li> You must close files so python will actually write them. You can do this either manually or automatically.\n",
    "    </ul>    \n",
    "</div>"
   ]
  },
  {
   "cell_type": "markdown",
   "metadata": {},
   "source": [
    "## Processing multiple files\n",
    "\n"
   ]
  },
  {
   "cell_type": "markdown",
   "metadata": {},
   "source": [
    "### Importing libraries\n",
    "\n",
    "We are going to import two libraries.  One is the `os` library which controls functions related to the operating system of your computer. We used this library in the last lesson to handle filepaths.  The other is the `glob` library which contains functions to help us analyze multiple files.  If we are going to analyze multiple files, we first need to specify where those files are located.\n",
    "\n",
    "```python\n",
    "import library_name\n",
    "output = library_name.function_name(input)\n",
    "```"
   ]
  },
  {
   "cell_type": "markdown",
   "metadata": {},
   "source": [
    "**Check your understanding** \n",
    "\n",
    "How would you use the `os.path` module to point to the directory where your PDB files are located?"
   ]
  },
  {
   "cell_type": "code",
   "execution_count": null,
   "metadata": {},
   "outputs": [],
   "source": []
  },
  {
   "cell_type": "code",
   "execution_count": null,
   "metadata": {},
   "outputs": [],
   "source": []
  },
  {
   "cell_type": "code",
   "execution_count": null,
   "metadata": {},
   "outputs": [],
   "source": []
  },
  {
   "cell_type": "markdown",
   "metadata": {},
   "source": [
    "### Reading multiple files with nested for loops"
   ]
  },
  {
   "cell_type": "code",
   "execution_count": null,
   "metadata": {},
   "outputs": [],
   "source": []
  },
  {
   "cell_type": "code",
   "execution_count": null,
   "metadata": {},
   "outputs": [],
   "source": []
  },
  {
   "cell_type": "markdown",
   "metadata": {},
   "source": [
    "**Check your understanding** \n",
    "\n",
    "How would you extract the PDB ID from the example above?"
   ]
  },
  {
   "cell_type": "code",
   "execution_count": null,
   "metadata": {},
   "outputs": [],
   "source": []
  },
  {
   "cell_type": "markdown",
   "metadata": {},
   "source": [
    "## Printing to a File\n"
   ]
  },
  {
   "cell_type": "markdown",
   "metadata": {},
   "source": [
    "\n",
    "```python\n",
    "with open('file_name.txt', 'w') as filehandle:\n",
    "    take some actions\n",
    "    use filehandle.write('content') to add content to the file\n",
    "```"
   ]
  },
  {
   "cell_type": "code",
   "execution_count": null,
   "metadata": {},
   "outputs": [],
   "source": []
  },
  {
   "cell_type": "code",
   "execution_count": null,
   "metadata": {},
   "outputs": [],
   "source": []
  },
  {
   "cell_type": "markdown",
   "metadata": {},
   "source": [
    "## A note about F string formatting\n",
    "The F'string' notation that you can use with the print or the write command lets you format strings in many ways.  You could include other words or whole sentences.  For example, we could change the file writing line to\n",
    "\n",
    "`datafile.write(F'For the PDB ID {molecule_name} the resolution is {resolution} in Angstroms.')`\n",
    "\n",
    "where anything in the braces is a python variable and it will print the value of that variable. "
   ]
  },
  {
   "cell_type": "markdown",
   "metadata": {},
   "source": [
    "**Project**\n",
    "\n",
    "You can complete this project to test your skills. It should be completed when this material is used in a long workshop, or if you are working through this material independently.\n",
    "    \n",
    "The goal of this exercise is to extract the Enzyme Commission Class for a series of enzyme structures in PDB files and write them to a text file. The files are located in the `PDB_files` folder. If you open any of these files in a text editor and search for the term \"EC:\" you will find a listing that looks like this: \n",
    "    \n",
    "    COMPND   6 EC: 1.2.1.13;\n",
    "    \n",
    "You are probably familiar with these numbers, but just in case - the Enzyme Commission class tells you the function of an enzyme in a hierarchical format. You can learn more at the [BRENDA EC Explorer](https://www.brenda-enzymes.org/ecexplorer.php?browser=1&f[nodes]=21&f[action]=close&f[change]=21#21).  \n",
    "  \n",
    "**Your assignment** is to parse the files in the `PDB_files` folder and write a new file named `EC_class.txt` that contains the PDB ID and EC class for each of these enzymes. When you open the file in your text editor, it should look like this:\n",
    "\n",
    "7tim \t  5.3.1.1  \n",
    "6zt7 \t  3.2.1.55  \n",
    "5eu9 \t  4.2.1.11  \n",
    "3iva \t  2.1.1.13  \n",
    "2pkr \t  1.2.1.13  \n",
    "3vnd \t  4.2.1.20  \n",
    "5veu \t  1.14.14.1\n",
    "    \n",
    "*Hint*\n",
    "\n",
    "It helps when you are writing code to break up what you have to do into steps. Overall, we want to get information from the file. How do we do that?\n",
    " \n",
    "If you think about the steps you will need to do this assignment you might come up with a list that is like this: \n",
    "\n",
    "1. Open the file for reading.\n",
    "1. Read the data in the file.\n",
    "1. Loop through the lines in the file.\n",
    "    1. Read the files to gain access to the information we want.\n",
    "    1. Extract the desired information and write it to a file.\n",
    "\n",
    "It can be helpful when you code to write out these steps and work on it in pieces. Try to write the code using these steps. Note that as you write the code, you may come up with other steps!  \n",
    "  \n",
    "First, think about what you have to do for step 1, and write the code for that. Next, think about how you would do step 2 and write the code for that. You can troubleshoot each step using print statments. \n",
    "  \n",
    "The steps build on each other, so you can work on getting each piece written before moving on to the next.  "
   ]
  },
  {
   "cell_type": "code",
   "execution_count": null,
   "metadata": {},
   "outputs": [],
   "source": []
  }
 ],
 "metadata": {
  "kernelspec": {
   "display_name": "Python 3",
   "language": "python",
   "name": "python3"
  },
  "language_info": {
   "codemirror_mode": {
    "name": "ipython",
    "version": 3
   },
   "file_extension": ".py",
   "mimetype": "text/x-python",
   "name": "python",
   "nbconvert_exporter": "python",
   "pygments_lexer": "ipython3",
   "version": "3.8.8"
  }
 },
 "nbformat": 4,
 "nbformat_minor": 4
}
